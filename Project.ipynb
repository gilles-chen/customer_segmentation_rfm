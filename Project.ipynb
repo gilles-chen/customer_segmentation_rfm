{
 "cells": [
  {
   "cell_type": "code",
   "execution_count": 1,
   "metadata": {
    "executionInfo": {
     "elapsed": 961,
     "status": "ok",
     "timestamp": 1685562335606,
     "user": {
      "displayName": "Daniel Gareev",
      "userId": "12303687341496405104"
     },
     "user_tz": -180
    },
    "id": "9Ens3Ezc3hE5"
   },
   "outputs": [
    {
     "ename": "ModuleNotFoundError",
     "evalue": "No module named 'pandas'",
     "output_type": "error",
     "traceback": [
      "\u001b[31m---------------------------------------------------------------------------\u001b[39m",
      "\u001b[31mModuleNotFoundError\u001b[39m                       Traceback (most recent call last)",
      "\u001b[36mCell\u001b[39m\u001b[36m \u001b[39m\u001b[32mIn[1]\u001b[39m\u001b[32m, line 1\u001b[39m\n\u001b[32m----> \u001b[39m\u001b[32m1\u001b[39m \u001b[38;5;28;01mimport\u001b[39;00m\u001b[38;5;250m \u001b[39m\u001b[34;01mpandas\u001b[39;00m\u001b[38;5;250m \u001b[39m\u001b[38;5;28;01mas\u001b[39;00m\u001b[38;5;250m \u001b[39m\u001b[34;01mpd\u001b[39;00m\n\u001b[32m      2\u001b[39m \u001b[38;5;28;01mimport\u001b[39;00m\u001b[38;5;250m \u001b[39m\u001b[34;01mnumpy\u001b[39;00m\u001b[38;5;250m \u001b[39m\u001b[38;5;28;01mas\u001b[39;00m\u001b[38;5;250m \u001b[39m\u001b[34;01mnp\u001b[39;00m\n\u001b[32m      3\u001b[39m \u001b[38;5;28;01mimport\u001b[39;00m\u001b[38;5;250m \u001b[39m\u001b[34;01mseaborn\u001b[39;00m\u001b[38;5;250m \u001b[39m\u001b[38;5;28;01mas\u001b[39;00m\u001b[38;5;250m \u001b[39m\u001b[34;01msns\u001b[39;00m\n",
      "\u001b[31mModuleNotFoundError\u001b[39m: No module named 'pandas'"
     ]
    }
   ],
   "source": [
    "import pandas as pd\n",
    "import numpy as np\n",
    "import seaborn as sns\n",
    "from matplotlib import pyplot as plt\n",
    "import datetime as dt"
   ]
  },
  {
   "cell_type": "code",
   "execution_count": 2,
   "metadata": {
    "executionInfo": {
     "elapsed": 71949,
     "status": "ok",
     "timestamp": 1685562548894,
     "user": {
      "displayName": "Daniel Gareev",
      "userId": "12303687341496405104"
     },
     "user_tz": -180
    },
    "id": "QMKXDMX73hE-"
   },
   "outputs": [],
   "source": [
    "# Download the Data\n",
    "df_ = pd.read_excel(\"./retail.xlsx\", engine='openpyxl')\n",
    "df = df_.copy()"
   ]
  },
  {
   "cell_type": "code",
   "execution_count": 3,
   "metadata": {
    "colab": {
     "base_uri": "https://localhost:8080/"
    },
    "executionInfo": {
     "elapsed": 1624,
     "status": "ok",
     "timestamp": 1685562638402,
     "user": {
      "displayName": "Daniel Gareev",
      "userId": "12303687341496405104"
     },
     "user_tz": -180
    },
    "id": "5CibtsaEPAXH",
    "outputId": "74da599c-adb3-41b4-cc4b-82ee8cfa20af"
   },
   "outputs": [
    {
     "data": {
      "text/plain": [
       "InvoiceNo      541909\n",
       "StockCode      541909\n",
       "Description    540455\n",
       "Quantity       541909\n",
       "InvoiceDate    541909\n",
       "UnitPrice      541909\n",
       "CustomerID     406829\n",
       "Country        541909\n",
       "dtype: int64"
      ]
     },
     "execution_count": 3,
     "metadata": {},
     "output_type": "execute_result"
    }
   ],
   "source": [
    "df.count()"
   ]
  },
  {
   "cell_type": "code",
   "execution_count": 4,
   "metadata": {
    "colab": {
     "base_uri": "https://localhost:8080/",
     "height": 206
    },
    "executionInfo": {
     "elapsed": 451,
     "status": "ok",
     "timestamp": 1685562642591,
     "user": {
      "displayName": "Daniel Gareev",
      "userId": "12303687341496405104"
     },
     "user_tz": -180
    },
    "id": "4VDWe6v-OE_q",
    "outputId": "c0a7e4f8-b523-47da-ad46-87a5e10ae2bb"
   },
   "outputs": [
    {
     "data": {
      "text/html": [
       "\n",
       "  <div id=\"df-f41b0a99-f100-4d94-ade1-5c2d61354676\">\n",
       "    <div class=\"colab-df-container\">\n",
       "      <div>\n",
       "<style scoped>\n",
       "    .dataframe tbody tr th:only-of-type {\n",
       "        vertical-align: middle;\n",
       "    }\n",
       "\n",
       "    .dataframe tbody tr th {\n",
       "        vertical-align: top;\n",
       "    }\n",
       "\n",
       "    .dataframe thead th {\n",
       "        text-align: right;\n",
       "    }\n",
       "</style>\n",
       "<table border=\"1\" class=\"dataframe\">\n",
       "  <thead>\n",
       "    <tr style=\"text-align: right;\">\n",
       "      <th></th>\n",
       "      <th>InvoiceNo</th>\n",
       "      <th>StockCode</th>\n",
       "      <th>Description</th>\n",
       "      <th>Quantity</th>\n",
       "      <th>InvoiceDate</th>\n",
       "      <th>UnitPrice</th>\n",
       "      <th>CustomerID</th>\n",
       "      <th>Country</th>\n",
       "    </tr>\n",
       "  </thead>\n",
       "  <tbody>\n",
       "    <tr>\n",
       "      <th>0</th>\n",
       "      <td>536365</td>\n",
       "      <td>85123A</td>\n",
       "      <td>WHITE HANGING HEART T-LIGHT HOLDER</td>\n",
       "      <td>6</td>\n",
       "      <td>2010-12-01 08:26:00</td>\n",
       "      <td>2.55</td>\n",
       "      <td>17850.0</td>\n",
       "      <td>United Kingdom</td>\n",
       "    </tr>\n",
       "    <tr>\n",
       "      <th>1</th>\n",
       "      <td>536365</td>\n",
       "      <td>71053</td>\n",
       "      <td>WHITE METAL LANTERN</td>\n",
       "      <td>6</td>\n",
       "      <td>2010-12-01 08:26:00</td>\n",
       "      <td>3.39</td>\n",
       "      <td>17850.0</td>\n",
       "      <td>United Kingdom</td>\n",
       "    </tr>\n",
       "    <tr>\n",
       "      <th>2</th>\n",
       "      <td>536365</td>\n",
       "      <td>84406B</td>\n",
       "      <td>CREAM CUPID HEARTS COAT HANGER</td>\n",
       "      <td>8</td>\n",
       "      <td>2010-12-01 08:26:00</td>\n",
       "      <td>2.75</td>\n",
       "      <td>17850.0</td>\n",
       "      <td>United Kingdom</td>\n",
       "    </tr>\n",
       "    <tr>\n",
       "      <th>3</th>\n",
       "      <td>536365</td>\n",
       "      <td>84029G</td>\n",
       "      <td>KNITTED UNION FLAG HOT WATER BOTTLE</td>\n",
       "      <td>6</td>\n",
       "      <td>2010-12-01 08:26:00</td>\n",
       "      <td>3.39</td>\n",
       "      <td>17850.0</td>\n",
       "      <td>United Kingdom</td>\n",
       "    </tr>\n",
       "    <tr>\n",
       "      <th>4</th>\n",
       "      <td>536365</td>\n",
       "      <td>84029E</td>\n",
       "      <td>RED WOOLLY HOTTIE WHITE HEART.</td>\n",
       "      <td>6</td>\n",
       "      <td>2010-12-01 08:26:00</td>\n",
       "      <td>3.39</td>\n",
       "      <td>17850.0</td>\n",
       "      <td>United Kingdom</td>\n",
       "    </tr>\n",
       "  </tbody>\n",
       "</table>\n",
       "</div>\n",
       "      <button class=\"colab-df-convert\" onclick=\"convertToInteractive('df-f41b0a99-f100-4d94-ade1-5c2d61354676')\"\n",
       "              title=\"Convert this dataframe to an interactive table.\"\n",
       "              style=\"display:none;\">\n",
       "        \n",
       "  <svg xmlns=\"http://www.w3.org/2000/svg\" height=\"24px\"viewBox=\"0 0 24 24\"\n",
       "       width=\"24px\">\n",
       "    <path d=\"M0 0h24v24H0V0z\" fill=\"none\"/>\n",
       "    <path d=\"M18.56 5.44l.94 2.06.94-2.06 2.06-.94-2.06-.94-.94-2.06-.94 2.06-2.06.94zm-11 1L8.5 8.5l.94-2.06 2.06-.94-2.06-.94L8.5 2.5l-.94 2.06-2.06.94zm10 10l.94 2.06.94-2.06 2.06-.94-2.06-.94-.94-2.06-.94 2.06-2.06.94z\"/><path d=\"M17.41 7.96l-1.37-1.37c-.4-.4-.92-.59-1.43-.59-.52 0-1.04.2-1.43.59L10.3 9.45l-7.72 7.72c-.78.78-.78 2.05 0 2.83L4 21.41c.39.39.9.59 1.41.59.51 0 1.02-.2 1.41-.59l7.78-7.78 2.81-2.81c.8-.78.8-2.07 0-2.86zM5.41 20L4 18.59l7.72-7.72 1.47 1.35L5.41 20z\"/>\n",
       "  </svg>\n",
       "      </button>\n",
       "      \n",
       "  <style>\n",
       "    .colab-df-container {\n",
       "      display:flex;\n",
       "      flex-wrap:wrap;\n",
       "      gap: 12px;\n",
       "    }\n",
       "\n",
       "    .colab-df-convert {\n",
       "      background-color: #E8F0FE;\n",
       "      border: none;\n",
       "      border-radius: 50%;\n",
       "      cursor: pointer;\n",
       "      display: none;\n",
       "      fill: #1967D2;\n",
       "      height: 32px;\n",
       "      padding: 0 0 0 0;\n",
       "      width: 32px;\n",
       "    }\n",
       "\n",
       "    .colab-df-convert:hover {\n",
       "      background-color: #E2EBFA;\n",
       "      box-shadow: 0px 1px 2px rgba(60, 64, 67, 0.3), 0px 1px 3px 1px rgba(60, 64, 67, 0.15);\n",
       "      fill: #174EA6;\n",
       "    }\n",
       "\n",
       "    [theme=dark] .colab-df-convert {\n",
       "      background-color: #3B4455;\n",
       "      fill: #D2E3FC;\n",
       "    }\n",
       "\n",
       "    [theme=dark] .colab-df-convert:hover {\n",
       "      background-color: #434B5C;\n",
       "      box-shadow: 0px 1px 3px 1px rgba(0, 0, 0, 0.15);\n",
       "      filter: drop-shadow(0px 1px 2px rgba(0, 0, 0, 0.3));\n",
       "      fill: #FFFFFF;\n",
       "    }\n",
       "  </style>\n",
       "\n",
       "      <script>\n",
       "        const buttonEl =\n",
       "          document.querySelector('#df-f41b0a99-f100-4d94-ade1-5c2d61354676 button.colab-df-convert');\n",
       "        buttonEl.style.display =\n",
       "          google.colab.kernel.accessAllowed ? 'block' : 'none';\n",
       "\n",
       "        async function convertToInteractive(key) {\n",
       "          const element = document.querySelector('#df-f41b0a99-f100-4d94-ade1-5c2d61354676');\n",
       "          const dataTable =\n",
       "            await google.colab.kernel.invokeFunction('convertToInteractive',\n",
       "                                                     [key], {});\n",
       "          if (!dataTable) return;\n",
       "\n",
       "          const docLinkHtml = 'Like what you see? Visit the ' +\n",
       "            '<a target=\"_blank\" href=https://colab.research.google.com/notebooks/data_table.ipynb>data table notebook</a>'\n",
       "            + ' to learn more about interactive tables.';\n",
       "          element.innerHTML = '';\n",
       "          dataTable['output_type'] = 'display_data';\n",
       "          await google.colab.output.renderOutput(dataTable, element);\n",
       "          const docLink = document.createElement('div');\n",
       "          docLink.innerHTML = docLinkHtml;\n",
       "          element.appendChild(docLink);\n",
       "        }\n",
       "      </script>\n",
       "    </div>\n",
       "  </div>\n",
       "  "
      ],
      "text/plain": [
       "  InvoiceNo StockCode                          Description  Quantity  \\\n",
       "0    536365    85123A   WHITE HANGING HEART T-LIGHT HOLDER         6   \n",
       "1    536365     71053                  WHITE METAL LANTERN         6   \n",
       "2    536365    84406B       CREAM CUPID HEARTS COAT HANGER         8   \n",
       "3    536365    84029G  KNITTED UNION FLAG HOT WATER BOTTLE         6   \n",
       "4    536365    84029E       RED WOOLLY HOTTIE WHITE HEART.         6   \n",
       "\n",
       "          InvoiceDate  UnitPrice  CustomerID         Country  \n",
       "0 2010-12-01 08:26:00       2.55     17850.0  United Kingdom  \n",
       "1 2010-12-01 08:26:00       3.39     17850.0  United Kingdom  \n",
       "2 2010-12-01 08:26:00       2.75     17850.0  United Kingdom  \n",
       "3 2010-12-01 08:26:00       3.39     17850.0  United Kingdom  \n",
       "4 2010-12-01 08:26:00       3.39     17850.0  United Kingdom  "
      ]
     },
     "execution_count": 4,
     "metadata": {},
     "output_type": "execute_result"
    }
   ],
   "source": [
    "df.head()"
   ]
  },
  {
   "cell_type": "markdown",
   "metadata": {
    "id": "OKdxodwdOKxc"
   },
   "source": [
    "Based on the missing percentage calculation for each column in the given dataset, the following conclusions can be made:\n",
    "\n",
    "- `Description`: About 0.27% of the data is missing in the Description column. This is a small percentage and might not have a significant impact on the analysis. \n",
    "\n",
    "- `CustomerID`: Approximately 24.93% of the data is missing in the CustomerID column. This is a significant percentage but it won't affect the analysis, as the customer information is not essential for the study. It's possible that purchases can be made as a guest, but in that case, it would be better to assign a specific ID indicating guest transactions for clarity and cleanliness in the data."
   ]
  },
  {
   "cell_type": "code",
   "execution_count": 5,
   "metadata": {
    "colab": {
     "base_uri": "https://localhost:8080/"
    },
    "executionInfo": {
     "elapsed": 1,
     "status": "ok",
     "timestamp": 1685562645149,
     "user": {
      "displayName": "Daniel Gareev",
      "userId": "12303687341496405104"
     },
     "user_tz": -180
    },
    "id": "tavXgzEWOHcg",
    "outputId": "e6e5298a-870c-4c07-ed79-10c36a73450a"
   },
   "outputs": [
    {
     "data": {
      "text/plain": [
       "InvoiceNo       0.000000\n",
       "StockCode       0.000000\n",
       "Description     0.268311\n",
       "Quantity        0.000000\n",
       "InvoiceDate     0.000000\n",
       "UnitPrice       0.000000\n",
       "CustomerID     24.926694\n",
       "Country         0.000000\n",
       "dtype: float64"
      ]
     },
     "execution_count": 5,
     "metadata": {},
     "output_type": "execute_result"
    }
   ],
   "source": [
    "# Check for missing values\n",
    "missing_percentage = df.isnull().sum() / df.shape[0] * 100 \n",
    "missing_percentage"
   ]
  },
  {
   "cell_type": "code",
   "execution_count": 6,
   "metadata": {
    "colab": {
     "base_uri": "https://localhost:8080/"
    },
    "executionInfo": {
     "elapsed": 1241,
     "status": "ok",
     "timestamp": 1685562649314,
     "user": {
      "displayName": "Daniel Gareev",
      "userId": "12303687341496405104"
     },
     "user_tz": -180
    },
    "id": "l3h_gkCdPIsb",
    "outputId": "07bdabba-b866-410a-fd3a-7eed95e3b617"
   },
   "outputs": [
    {
     "name": "stdout",
     "output_type": "stream",
     "text": [
      "Dublicated entries: 5268\n"
     ]
    }
   ],
   "source": [
    "# Remove duplicated entries\n",
    "print('Dublicated entries: {}'.format(df.duplicated().sum()))\n",
    "df.drop_duplicates(inplace = True)"
   ]
  },
  {
   "cell_type": "code",
   "execution_count": 7,
   "metadata": {
    "colab": {
     "base_uri": "https://localhost:8080/"
    },
    "executionInfo": {
     "elapsed": 305,
     "status": "ok",
     "timestamp": 1685562649618,
     "user": {
      "displayName": "Daniel Gareev",
      "userId": "12303687341496405104"
     },
     "user_tz": -180
    },
    "id": "FMRKXqFr3hFC",
    "outputId": "54e670a1-a9e8-41f2-d5d1-b9622598243f"
   },
   "outputs": [
    {
     "data": {
      "text/plain": [
       "InvoiceNo      0\n",
       "StockCode      0\n",
       "Quantity       0\n",
       "InvoiceDate    0\n",
       "UnitPrice      0\n",
       "CustomerID     0\n",
       "Country        0\n",
       "dtype: int64"
      ]
     },
     "execution_count": 7,
     "metadata": {},
     "output_type": "execute_result"
    }
   ],
   "source": [
    "# Remove rows with missing CustomerID\n",
    "# As we want to do customer segmentation, rows without CustomerID are irrelevant.\n",
    "df.dropna(subset=[\"CustomerID\"], inplace=True)\n",
    "\n",
    "# Remove column Description\n",
    "# Description column is irrelevant for customer segmentation.\n",
    "df.drop(columns=[\"Description\"], inplace=True)\n",
    "\n",
    "df.isnull().sum()"
   ]
  },
  {
   "cell_type": "markdown",
   "metadata": {
    "id": "vllgOT3xDL2Q"
   },
   "source": [
    "Data repair"
   ]
  },
  {
   "cell_type": "code",
   "execution_count": 8,
   "metadata": {
    "executionInfo": {
     "elapsed": 299,
     "status": "ok",
     "timestamp": 1685562649914,
     "user": {
      "displayName": "Daniel Gareev",
      "userId": "12303687341496405104"
     },
     "user_tz": -180
    },
    "id": "YbyTTbcuDLje"
   },
   "outputs": [],
   "source": [
    "# Verify that no customerID has a decimal value\n",
    "df[df[\"CustomerID\"] % 1 != 0]\n",
    "\n",
    "# Update CustomerID to integer\n",
    "df[\"CustomerID\"] = df[\"CustomerID\"].astype(\"int64\")\n",
    "\n",
    "# Update Country to string\n",
    "df[\"Country\"] = df[\"Country\"].astype(str)\n"
   ]
  },
  {
   "cell_type": "markdown",
   "metadata": {
    "id": "0yi7YIGB3hFD"
   },
   "source": [
    "Create new table and Add new attributes"
   ]
  },
  {
   "cell_type": "code",
   "execution_count": 9,
   "metadata": {
    "executionInfo": {
     "elapsed": 1015,
     "status": "ok",
     "timestamp": 1685562651897,
     "user": {
      "displayName": "Daniel Gareev",
      "userId": "12303687341496405104"
     },
     "user_tz": -180
    },
    "id": "KXMc6aP73hFE"
   },
   "outputs": [],
   "source": [
    "# Create column TotalPrice\n",
    "df[\"TotalPrice\"] = df[\"Quantity\"] * df[\"UnitPrice\"]\n",
    "\n",
    "# Create customer dataframe\n",
    "df_customer = pd.DataFrame({'CustomerID': df['CustomerID'].unique()})\n",
    "\n",
    "# Create new column Total Spent\n",
    "total_spent_df = df.groupby('CustomerID').agg(TotalSpent=('TotalPrice', 'sum')).reset_index()\n",
    "df_customer = pd.merge(df_customer, total_spent_df, on='CustomerID')\n",
    "\n",
    "# Create new column Total Quantity\n",
    "total_quantity_df = df.groupby('CustomerID').agg(TotalQuantity=('Quantity', 'sum')).reset_index()\n",
    "df_customer = pd.merge(df_customer, total_quantity_df, on='CustomerID')\n",
    "\n",
    "# Create new column Average Price\n",
    "average_price_df = df.groupby('CustomerID').agg(AveragePrice=('UnitPrice', 'mean')).reset_index()\n",
    "df_customer = pd.merge(df_customer, average_price_df, on='CustomerID')\n",
    "\n",
    "# Create new column unique products\n",
    "unique_products_df = df.groupby('CustomerID').agg(UniqueProducts=('StockCode', 'nunique')).reset_index()\n",
    "df_customer = pd.merge(df_customer, unique_products_df, on='CustomerID')\n",
    "\n",
    "# Create new column returned products that have a c in the invoice number\n",
    "returned_products_df = df[df['InvoiceNo'].str.contains('C', na=False)]\n",
    "returned_products_df = returned_products_df.groupby('CustomerID').agg(ReturnedProducts=('StockCode', 'count')).reset_index()\n",
    "df_customer = pd.merge(df_customer, returned_products_df, on='CustomerID')\n",
    "\n"
   ]
  },
  {
   "cell_type": "markdown",
   "metadata": {
    "id": "yshT_lMl3hFF"
   },
   "source": [
    "## Customer Segmentation using RFM (Recency, Frequency, Total Spent)\n"
   ]
  },
  {
   "cell_type": "markdown",
   "metadata": {
    "id": "pK3vsE_V0_TO"
   },
   "source": [
    "![segmentation.png](attachment:segmentation.png)"
   ]
  },
  {
   "cell_type": "code",
   "execution_count": 10,
   "metadata": {
    "colab": {
     "base_uri": "https://localhost:8080/"
    },
    "executionInfo": {
     "elapsed": 2,
     "status": "ok",
     "timestamp": 1685562652203,
     "user": {
      "displayName": "Daniel Gareev",
      "userId": "12303687341496405104"
     },
     "user_tz": -180
    },
    "id": "Lnoz9hn70_TP",
    "outputId": "a127823e-75ef-4cc7-e158-84ffee5b2aba"
   },
   "outputs": [
    {
     "data": {
      "text/plain": [
       "(401604, 8)"
      ]
     },
     "execution_count": 10,
     "metadata": {},
     "output_type": "execute_result"
    }
   ],
   "source": [
    "df.shape"
   ]
  },
  {
   "cell_type": "code",
   "execution_count": 11,
   "metadata": {
    "colab": {
     "base_uri": "https://localhost:8080/"
    },
    "executionInfo": {
     "elapsed": 306,
     "status": "ok",
     "timestamp": 1685562652784,
     "user": {
      "displayName": "Daniel Gareev",
      "userId": "12303687341496405104"
     },
     "user_tz": -180
    },
    "id": "LaO1nBFI0_TP",
    "outputId": "9ba3bd32-1ce9-42a7-f452-7323831830d1"
   },
   "outputs": [
    {
     "data": {
      "text/plain": [
       "InvoiceNo      0\n",
       "StockCode      0\n",
       "Quantity       0\n",
       "InvoiceDate    0\n",
       "UnitPrice      0\n",
       "CustomerID     0\n",
       "Country        0\n",
       "TotalPrice     0\n",
       "dtype: int64"
      ]
     },
     "execution_count": 11,
     "metadata": {},
     "output_type": "execute_result"
    }
   ],
   "source": [
    "# Check if there null entires left in the data set\n",
    "df.isnull().sum()"
   ]
  },
  {
   "cell_type": "code",
   "execution_count": 12,
   "metadata": {
    "colab": {
     "base_uri": "https://localhost:8080/",
     "height": 423
    },
    "executionInfo": {
     "elapsed": 279,
     "status": "ok",
     "timestamp": 1685562653062,
     "user": {
      "displayName": "Daniel Gareev",
      "userId": "12303687341496405104"
     },
     "user_tz": -180
    },
    "id": "whR_EIR30_TQ",
    "outputId": "1f3360fd-0f4a-44a1-cf94-492be0867c67"
   },
   "outputs": [
    {
     "data": {
      "text/html": [
       "\n",
       "  <div id=\"df-346772d6-a500-436f-ad8a-dc4f48182b11\">\n",
       "    <div class=\"colab-df-container\">\n",
       "      <div>\n",
       "<style scoped>\n",
       "    .dataframe tbody tr th:only-of-type {\n",
       "        vertical-align: middle;\n",
       "    }\n",
       "\n",
       "    .dataframe tbody tr th {\n",
       "        vertical-align: top;\n",
       "    }\n",
       "\n",
       "    .dataframe thead th {\n",
       "        text-align: right;\n",
       "    }\n",
       "</style>\n",
       "<table border=\"1\" class=\"dataframe\">\n",
       "  <thead>\n",
       "    <tr style=\"text-align: right;\">\n",
       "      <th></th>\n",
       "      <th>InvoiceNo</th>\n",
       "      <th>StockCode</th>\n",
       "      <th>Quantity</th>\n",
       "      <th>InvoiceDate</th>\n",
       "      <th>UnitPrice</th>\n",
       "      <th>CustomerID</th>\n",
       "      <th>Country</th>\n",
       "      <th>TotalPrice</th>\n",
       "    </tr>\n",
       "  </thead>\n",
       "  <tbody>\n",
       "    <tr>\n",
       "      <th>141</th>\n",
       "      <td>C536379</td>\n",
       "      <td>D</td>\n",
       "      <td>-1</td>\n",
       "      <td>2010-12-01 09:41:00</td>\n",
       "      <td>27.50</td>\n",
       "      <td>14527</td>\n",
       "      <td>United Kingdom</td>\n",
       "      <td>-27.50</td>\n",
       "    </tr>\n",
       "    <tr>\n",
       "      <th>154</th>\n",
       "      <td>C536383</td>\n",
       "      <td>35004C</td>\n",
       "      <td>-1</td>\n",
       "      <td>2010-12-01 09:49:00</td>\n",
       "      <td>4.65</td>\n",
       "      <td>15311</td>\n",
       "      <td>United Kingdom</td>\n",
       "      <td>-4.65</td>\n",
       "    </tr>\n",
       "    <tr>\n",
       "      <th>235</th>\n",
       "      <td>C536391</td>\n",
       "      <td>22556</td>\n",
       "      <td>-12</td>\n",
       "      <td>2010-12-01 10:24:00</td>\n",
       "      <td>1.65</td>\n",
       "      <td>17548</td>\n",
       "      <td>United Kingdom</td>\n",
       "      <td>-19.80</td>\n",
       "    </tr>\n",
       "    <tr>\n",
       "      <th>236</th>\n",
       "      <td>C536391</td>\n",
       "      <td>21984</td>\n",
       "      <td>-24</td>\n",
       "      <td>2010-12-01 10:24:00</td>\n",
       "      <td>0.29</td>\n",
       "      <td>17548</td>\n",
       "      <td>United Kingdom</td>\n",
       "      <td>-6.96</td>\n",
       "    </tr>\n",
       "    <tr>\n",
       "      <th>237</th>\n",
       "      <td>C536391</td>\n",
       "      <td>21983</td>\n",
       "      <td>-24</td>\n",
       "      <td>2010-12-01 10:24:00</td>\n",
       "      <td>0.29</td>\n",
       "      <td>17548</td>\n",
       "      <td>United Kingdom</td>\n",
       "      <td>-6.96</td>\n",
       "    </tr>\n",
       "    <tr>\n",
       "      <th>...</th>\n",
       "      <td>...</td>\n",
       "      <td>...</td>\n",
       "      <td>...</td>\n",
       "      <td>...</td>\n",
       "      <td>...</td>\n",
       "      <td>...</td>\n",
       "      <td>...</td>\n",
       "      <td>...</td>\n",
       "    </tr>\n",
       "    <tr>\n",
       "      <th>540449</th>\n",
       "      <td>C581490</td>\n",
       "      <td>23144</td>\n",
       "      <td>-11</td>\n",
       "      <td>2011-12-09 09:57:00</td>\n",
       "      <td>0.83</td>\n",
       "      <td>14397</td>\n",
       "      <td>United Kingdom</td>\n",
       "      <td>-9.13</td>\n",
       "    </tr>\n",
       "    <tr>\n",
       "      <th>541541</th>\n",
       "      <td>C581499</td>\n",
       "      <td>M</td>\n",
       "      <td>-1</td>\n",
       "      <td>2011-12-09 10:28:00</td>\n",
       "      <td>224.69</td>\n",
       "      <td>15498</td>\n",
       "      <td>United Kingdom</td>\n",
       "      <td>-224.69</td>\n",
       "    </tr>\n",
       "    <tr>\n",
       "      <th>541715</th>\n",
       "      <td>C581568</td>\n",
       "      <td>21258</td>\n",
       "      <td>-5</td>\n",
       "      <td>2011-12-09 11:57:00</td>\n",
       "      <td>10.95</td>\n",
       "      <td>15311</td>\n",
       "      <td>United Kingdom</td>\n",
       "      <td>-54.75</td>\n",
       "    </tr>\n",
       "    <tr>\n",
       "      <th>541716</th>\n",
       "      <td>C581569</td>\n",
       "      <td>84978</td>\n",
       "      <td>-1</td>\n",
       "      <td>2011-12-09 11:58:00</td>\n",
       "      <td>1.25</td>\n",
       "      <td>17315</td>\n",
       "      <td>United Kingdom</td>\n",
       "      <td>-1.25</td>\n",
       "    </tr>\n",
       "    <tr>\n",
       "      <th>541717</th>\n",
       "      <td>C581569</td>\n",
       "      <td>20979</td>\n",
       "      <td>-5</td>\n",
       "      <td>2011-12-09 11:58:00</td>\n",
       "      <td>1.25</td>\n",
       "      <td>17315</td>\n",
       "      <td>United Kingdom</td>\n",
       "      <td>-6.25</td>\n",
       "    </tr>\n",
       "  </tbody>\n",
       "</table>\n",
       "<p>8872 rows × 8 columns</p>\n",
       "</div>\n",
       "      <button class=\"colab-df-convert\" onclick=\"convertToInteractive('df-346772d6-a500-436f-ad8a-dc4f48182b11')\"\n",
       "              title=\"Convert this dataframe to an interactive table.\"\n",
       "              style=\"display:none;\">\n",
       "        \n",
       "  <svg xmlns=\"http://www.w3.org/2000/svg\" height=\"24px\"viewBox=\"0 0 24 24\"\n",
       "       width=\"24px\">\n",
       "    <path d=\"M0 0h24v24H0V0z\" fill=\"none\"/>\n",
       "    <path d=\"M18.56 5.44l.94 2.06.94-2.06 2.06-.94-2.06-.94-.94-2.06-.94 2.06-2.06.94zm-11 1L8.5 8.5l.94-2.06 2.06-.94-2.06-.94L8.5 2.5l-.94 2.06-2.06.94zm10 10l.94 2.06.94-2.06 2.06-.94-2.06-.94-.94-2.06-.94 2.06-2.06.94z\"/><path d=\"M17.41 7.96l-1.37-1.37c-.4-.4-.92-.59-1.43-.59-.52 0-1.04.2-1.43.59L10.3 9.45l-7.72 7.72c-.78.78-.78 2.05 0 2.83L4 21.41c.39.39.9.59 1.41.59.51 0 1.02-.2 1.41-.59l7.78-7.78 2.81-2.81c.8-.78.8-2.07 0-2.86zM5.41 20L4 18.59l7.72-7.72 1.47 1.35L5.41 20z\"/>\n",
       "  </svg>\n",
       "      </button>\n",
       "      \n",
       "  <style>\n",
       "    .colab-df-container {\n",
       "      display:flex;\n",
       "      flex-wrap:wrap;\n",
       "      gap: 12px;\n",
       "    }\n",
       "\n",
       "    .colab-df-convert {\n",
       "      background-color: #E8F0FE;\n",
       "      border: none;\n",
       "      border-radius: 50%;\n",
       "      cursor: pointer;\n",
       "      display: none;\n",
       "      fill: #1967D2;\n",
       "      height: 32px;\n",
       "      padding: 0 0 0 0;\n",
       "      width: 32px;\n",
       "    }\n",
       "\n",
       "    .colab-df-convert:hover {\n",
       "      background-color: #E2EBFA;\n",
       "      box-shadow: 0px 1px 2px rgba(60, 64, 67, 0.3), 0px 1px 3px 1px rgba(60, 64, 67, 0.15);\n",
       "      fill: #174EA6;\n",
       "    }\n",
       "\n",
       "    [theme=dark] .colab-df-convert {\n",
       "      background-color: #3B4455;\n",
       "      fill: #D2E3FC;\n",
       "    }\n",
       "\n",
       "    [theme=dark] .colab-df-convert:hover {\n",
       "      background-color: #434B5C;\n",
       "      box-shadow: 0px 1px 3px 1px rgba(0, 0, 0, 0.15);\n",
       "      filter: drop-shadow(0px 1px 2px rgba(0, 0, 0, 0.3));\n",
       "      fill: #FFFFFF;\n",
       "    }\n",
       "  </style>\n",
       "\n",
       "      <script>\n",
       "        const buttonEl =\n",
       "          document.querySelector('#df-346772d6-a500-436f-ad8a-dc4f48182b11 button.colab-df-convert');\n",
       "        buttonEl.style.display =\n",
       "          google.colab.kernel.accessAllowed ? 'block' : 'none';\n",
       "\n",
       "        async function convertToInteractive(key) {\n",
       "          const element = document.querySelector('#df-346772d6-a500-436f-ad8a-dc4f48182b11');\n",
       "          const dataTable =\n",
       "            await google.colab.kernel.invokeFunction('convertToInteractive',\n",
       "                                                     [key], {});\n",
       "          if (!dataTable) return;\n",
       "\n",
       "          const docLinkHtml = 'Like what you see? Visit the ' +\n",
       "            '<a target=\"_blank\" href=https://colab.research.google.com/notebooks/data_table.ipynb>data table notebook</a>'\n",
       "            + ' to learn more about interactive tables.';\n",
       "          element.innerHTML = '';\n",
       "          dataTable['output_type'] = 'display_data';\n",
       "          await google.colab.output.renderOutput(dataTable, element);\n",
       "          const docLink = document.createElement('div');\n",
       "          docLink.innerHTML = docLinkHtml;\n",
       "          element.appendChild(docLink);\n",
       "        }\n",
       "      </script>\n",
       "    </div>\n",
       "  </div>\n",
       "  "
      ],
      "text/plain": [
       "       InvoiceNo StockCode  Quantity         InvoiceDate  UnitPrice  \\\n",
       "141      C536379         D        -1 2010-12-01 09:41:00      27.50   \n",
       "154      C536383    35004C        -1 2010-12-01 09:49:00       4.65   \n",
       "235      C536391     22556       -12 2010-12-01 10:24:00       1.65   \n",
       "236      C536391     21984       -24 2010-12-01 10:24:00       0.29   \n",
       "237      C536391     21983       -24 2010-12-01 10:24:00       0.29   \n",
       "...          ...       ...       ...                 ...        ...   \n",
       "540449   C581490     23144       -11 2011-12-09 09:57:00       0.83   \n",
       "541541   C581499         M        -1 2011-12-09 10:28:00     224.69   \n",
       "541715   C581568     21258        -5 2011-12-09 11:57:00      10.95   \n",
       "541716   C581569     84978        -1 2011-12-09 11:58:00       1.25   \n",
       "541717   C581569     20979        -5 2011-12-09 11:58:00       1.25   \n",
       "\n",
       "        CustomerID         Country  TotalPrice  \n",
       "141          14527  United Kingdom      -27.50  \n",
       "154          15311  United Kingdom       -4.65  \n",
       "235          17548  United Kingdom      -19.80  \n",
       "236          17548  United Kingdom       -6.96  \n",
       "237          17548  United Kingdom       -6.96  \n",
       "...            ...             ...         ...  \n",
       "540449       14397  United Kingdom       -9.13  \n",
       "541541       15498  United Kingdom     -224.69  \n",
       "541715       15311  United Kingdom      -54.75  \n",
       "541716       17315  United Kingdom       -1.25  \n",
       "541717       17315  United Kingdom       -6.25  \n",
       "\n",
       "[8872 rows x 8 columns]"
      ]
     },
     "execution_count": 12,
     "metadata": {},
     "output_type": "execute_result"
    }
   ],
   "source": [
    "# Check for Invoinces that contain \"C\" indicating a cancelled Invoice\n",
    "df[df[\"InvoiceNo\"].str.contains(\"C\", na=False)]"
   ]
  },
  {
   "cell_type": "code",
   "execution_count": 13,
   "metadata": {
    "executionInfo": {
     "elapsed": 1202,
     "status": "ok",
     "timestamp": 1685562666056,
     "user": {
      "displayName": "Daniel Gareev",
      "userId": "12303687341496405104"
     },
     "user_tz": -180
    },
    "id": "KDb8iYWy0_TQ"
   },
   "outputs": [],
   "source": [
    "# Filter out cancelled Invoices\n",
    "df = df[~df[\"InvoiceNo\"].str.contains(\"C\", na=False)]"
   ]
  },
  {
   "cell_type": "code",
   "execution_count": 14,
   "metadata": {
    "colab": {
     "base_uri": "https://localhost:8080/",
     "height": 251
    },
    "executionInfo": {
     "elapsed": 1348,
     "status": "ok",
     "timestamp": 1685562667403,
     "user": {
      "displayName": "Daniel Gareev",
      "userId": "12303687341496405104"
     },
     "user_tz": -180
    },
    "id": "4JVgFBp4pL1D",
    "outputId": "031c7cca-7c18-4280-ceb7-d45d1f181417"
   },
   "outputs": [
    {
     "data": {
      "text/plain": [
       "<Axes: title={'center': 'Price\\n'}>"
      ]
     },
     "execution_count": 14,
     "metadata": {},
     "output_type": "execute_result"
    },
    {
     "data": {
      "image/png": "[encoded data removed]",
      "text/plain": [
       "<Figure size 1600x200 with 1 Axes>"
      ]
     },
     "metadata": {},
     "output_type": "display_data"
    }
   ],
   "source": [
    "# plot the price distribution box\n",
    "box_plot = dict(markerfacecolor='r', markeredgecolor='r', marker='.')\n",
    "price_dist = df['TotalPrice'].plot(kind='box', vert=False, flierprops=box_plot, title = \"Total Price\", figsize=(16,2));\n",
    "plt.title('Price\\n', fontsize=14, fontweight='bold')\n",
    "price_dist"
   ]
  },
  {
   "cell_type": "code",
   "execution_count": 15,
   "metadata": {
    "colab": {
     "base_uri": "https://localhost:8080/"
    },
    "executionInfo": {
     "elapsed": 2,
     "status": "ok",
     "timestamp": 1685562668940,
     "user": {
      "displayName": "Daniel Gareev",
      "userId": "12303687341496405104"
     },
     "user_tz": -180
    },
    "id": "zlryDa-YrrX_",
    "outputId": "65ecdcb8-0326-4eac-a0f9-9fed627c5cf3"
   },
   "outputs": [
    {
     "data": {
      "text/plain": [
       "InvoiceNo      7\n",
       "StockCode      7\n",
       "Quantity       7\n",
       "InvoiceDate    7\n",
       "UnitPrice      7\n",
       "CustomerID     7\n",
       "Country        7\n",
       "TotalPrice     7\n",
       "dtype: int64"
      ]
     },
     "execution_count": 15,
     "metadata": {},
     "output_type": "execute_result"
    }
   ],
   "source": [
    "df[df['TotalPrice'] > 5000].count()"
   ]
  },
  {
   "cell_type": "code",
   "execution_count": 16,
   "metadata": {
    "executionInfo": {
     "elapsed": 1,
     "status": "ok",
     "timestamp": 1685562670031,
     "user": {
      "displayName": "Daniel Gareev",
      "userId": "12303687341496405104"
     },
     "user_tz": -180
    },
    "id": "fZOx_HEmq8kA"
   },
   "outputs": [],
   "source": [
    "# Remove all values higher than the threshold of 5000\n",
    "df = df[df['TotalPrice'] < 5000]"
   ]
  },
  {
   "cell_type": "code",
   "execution_count": 17,
   "metadata": {
    "colab": {
     "base_uri": "https://localhost:8080/",
     "height": 422
    },
    "executionInfo": {
     "elapsed": 874,
     "status": "ok",
     "timestamp": 1685562671175,
     "user": {
      "displayName": "Daniel Gareev",
      "userId": "12303687341496405104"
     },
     "user_tz": -180
    },
    "id": "9_W0mlok52N2",
    "outputId": "08a084bc-54b7-4fae-d43c-346150fa28cc"
   },
   "outputs": [
    {
     "data": {
      "image/png": "[encoded data removed]",
      "text/plain": [
       "<Figure size 2000x500 with 1 Axes>"
      ]
     },
     "metadata": {},
     "output_type": "display_data"
    }
   ],
   "source": [
    "country_counts = df.Country.value_counts().sort_values(ascending=False).iloc[0:20]\n",
    "plt.figure(figsize=(20,5))\n",
    "sns.barplot(x=country_counts.index, y=country_counts.values, palette=\"Greens_r\")\n",
    "plt.ylabel(\"Counts\")\n",
    "plt.title(\"Which countries made the most transactions?\");\n",
    "plt.xticks(rotation=90);\n",
    "plt.yscale(\"log\")"
   ]
  },
  {
   "cell_type": "code",
   "execution_count": 18,
   "metadata": {
    "colab": {
     "base_uri": "https://localhost:8080/",
     "height": 437
    },
    "executionInfo": {
     "elapsed": 1007,
     "status": "ok",
     "timestamp": 1685562672533,
     "user": {
      "displayName": "Daniel Gareev",
      "userId": "12303687341496405104"
     },
     "user_tz": -180
    },
    "id": "DDIZ4UJz77Pr",
    "outputId": "1240798d-5938-4909-c2f1-894a40ce67b3"
   },
   "outputs": [
    {
     "data": {
      "image/png": "[encoded data removed]",
      "text/plain": [
       "<Figure size 2000x500 with 1 Axes>"
      ]
     },
     "metadata": {},
     "output_type": "display_data"
    }
   ],
   "source": [
    "group_country_amount_spent = df.groupby('Country')['TotalPrice'].sum().sort_values(ascending=False).iloc[0:20]\n",
    "plt.figure(figsize=(20,5))\n",
    "sns.barplot(x=group_country_amount_spent.index, y=group_country_amount_spent.values, palette=\"dark:salmon\")\n",
    "plt.ylabel(\"Money Spent\")\n",
    "plt.title(\"Which countries spend the most?\");\n",
    "plt.xticks(rotation=90);\n",
    "plt.yscale(\"log\")"
   ]
  },
  {
   "cell_type": "code",
   "execution_count": 19,
   "metadata": {
    "colab": {
     "base_uri": "https://localhost:8080/",
     "height": 363
    },
    "executionInfo": {
     "elapsed": 660,
     "status": "ok",
     "timestamp": 1685562673191,
     "user": {
      "displayName": "Daniel Gareev",
      "userId": "12303687341496405104"
     },
     "user_tz": -180
    },
    "id": "qbxHMv1Z409d",
    "outputId": "3d1b0203-3dd9-4b88-e26a-c52fe2b1d002"
   },
   "outputs": [
    {
     "data": {
      "image/png": "[encoded data removed]",
      "text/plain": [
       "<Figure size 2000x500 with 1 Axes>"
      ]
     },
     "metadata": {},
     "output_type": "display_data"
    }
   ],
   "source": [
    "customer_counts = df.CustomerID.value_counts().sort_values(ascending=False).iloc[0:20] \n",
    "plt.figure(figsize=(20,5))\n",
    "sns.barplot(x=customer_counts.index, y=customer_counts.values, order=customer_counts.index)\n",
    "plt.ylabel(\"Counts\")\n",
    "plt.xlabel(\"CustomerID\")\n",
    "plt.title(\"Which customers are most frequent?\");\n",
    "#plt.xticks(rotation=90);"
   ]
  },
  {
   "cell_type": "code",
   "execution_count": 20,
   "metadata": {
    "colab": {
     "base_uri": "https://localhost:8080/",
     "height": 440
    },
    "executionInfo": {
     "elapsed": 693,
     "status": "ok",
     "timestamp": 1685562673881,
     "user": {
      "displayName": "Daniel Gareev",
      "userId": "12303687341496405104"
     },
     "user_tz": -180
    },
    "id": "652ZN7AI6ph8",
    "outputId": "f56d9d24-ab29-493b-ebab-0b620ce6432d"
   },
   "outputs": [
    {
     "data": {
      "text/plain": [
       "Text(0.5, 1.0, 'Sales by Months ')"
      ]
     },
     "execution_count": 20,
     "metadata": {},
     "output_type": "execute_result"
    },
    {
     "data": {
      "image/png": "[encoded data removed]",
      "text/plain": [
       "<Figure size 2000x600 with 1 Axes>"
      ]
     },
     "metadata": {},
     "output_type": "display_data"
    }
   ],
   "source": [
    "# Sales different months.\n",
    "# extracting month from the Invoice date\n",
    "df['Month']=df['InvoiceDate'].dt.month_name()\n",
    "SalesbyMonth=df.groupby('Month')['TotalPrice'].sum().reset_index().sort_values('TotalPrice',ascending=False)\n",
    "plt.figure(figsize=(20,6))\n",
    "sns.barplot(x=SalesbyMonth['Month'],y=SalesbyMonth['TotalPrice'])\n",
    "plt.title('Sales by Months ')"
   ]
  },
  {
   "cell_type": "code",
   "execution_count": 21,
   "metadata": {
    "colab": {
     "base_uri": "https://localhost:8080/",
     "height": 439
    },
    "executionInfo": {
     "elapsed": 5760,
     "status": "ok",
     "timestamp": 1685562679637,
     "user": {
      "displayName": "Daniel Gareev",
      "userId": "12303687341496405104"
     },
     "user_tz": -180
    },
    "id": "m1FD70kA-0-I",
    "outputId": "075b689e-18a3-43c0-aef1-d985cfc38475"
   },
   "outputs": [
    {
     "data": {
      "image/png": "[encoded data removed]",
      "text/plain": [
       "<Figure size 2000x600 with 1 Axes>"
      ]
     },
     "metadata": {},
     "output_type": "display_data"
    }
   ],
   "source": [
    "# extracting day from the Invoice date\n",
    "df['Day']=df['InvoiceDate'].dt.day_name()\n",
    "# plot revenue by day of the week\n",
    "plt.figure(figsize=(20,6))\n",
    "plt.title('Revenue by Day of the Week\\n')\n",
    "sns.barplot(x=df['Day'], y=df['TotalPrice'], palette=\"Spectral\")\n",
    "plt.xlabel('Day of the Week')\n",
    "plt.ylabel('Revenue')\n",
    "plt.show()\n"
   ]
  },
  {
   "cell_type": "code",
   "execution_count": 22,
   "metadata": {
    "colab": {
     "base_uri": "https://localhost:8080/",
     "height": 432
    },
    "executionInfo": {
     "elapsed": 660,
     "status": "ok",
     "timestamp": 1685562680294,
     "user": {
      "displayName": "Daniel Gareev",
      "userId": "12303687341496405104"
     },
     "user_tz": -180
    },
    "id": "YPe2TYvdEmMA",
    "outputId": "29333500-3b93-44ae-e991-9083fbe3b866"
   },
   "outputs": [
    {
     "data": {
      "image/png": "[encoded data removed]",
      "text/plain": [
       "<Figure size 2000x600 with 1 Axes>"
      ]
     },
     "metadata": {},
     "output_type": "display_data"
    }
   ],
   "source": [
    "# plot number of transactions by day of the week\n",
    "plt.figure(figsize=(20,6))\n",
    "plt.title('Number of Transactions by Day of the Week\\n')\n",
    "sns.countplot(x=df['Day'], palette=\"Spectral\")\n",
    "plt.xlabel('Day of the Week')\n",
    "plt.ylabel('Number of Transactions')\n",
    "plt.show()"
   ]
  },
  {
   "cell_type": "code",
   "execution_count": 23,
   "metadata": {
    "colab": {
     "base_uri": "https://localhost:8080/",
     "height": 249
    },
    "executionInfo": {
     "elapsed": 3798,
     "status": "ok",
     "timestamp": 1685562684090,
     "user": {
      "displayName": "Daniel Gareev",
      "userId": "12303687341496405104"
     },
     "user_tz": -180
    },
    "id": "CEi-5eG0BnJz",
    "outputId": "4fcc1e1e-56e3-4df9-b058-039a3ea59052"
   },
   "outputs": [
    {
     "data": {
      "text/plain": [
       "<Figure size 2000x1000 with 0 Axes>"
      ]
     },
     "metadata": {},
     "output_type": "display_data"
    },
    {
     "data": {
      "image/png": "[encoded data removed]",
      "text/plain": [
       "<Figure size 1630.5x300 with 1 Axes>"
      ]
     },
     "metadata": {},
     "output_type": "display_data"
    }
   ],
   "source": [
    "with sns.color_palette('Spectral'):\n",
    "    plt.figure(figsize=(20,10))\n",
    "    facet = sns.FacetGrid(df[df['TotalPrice'] < 50], hue=\"Day\", aspect=5)\n",
    "    facet.map(sns.kdeplot, 'TotalPrice', fill=True)\n",
    "    facet.set(xlim=(0, df[df['TotalPrice'] < 50]['TotalPrice'].max().item()))\n",
    "    facet.add_legend()"
   ]
  },
  {
   "cell_type": "code",
   "execution_count": 24,
   "metadata": {
    "executionInfo": {
     "elapsed": 1239,
     "status": "ok",
     "timestamp": 1685562685328,
     "user": {
      "displayName": "Daniel Gareev",
      "userId": "12303687341496405104"
     },
     "user_tz": -180
    },
    "id": "cONP_ZyK0_TR"
   },
   "outputs": [],
   "source": [
    "# Find max InvoiceDate\n",
    "df[\"InvoiceDate\"].max()\n",
    "\n",
    "# Starting Date for RFM Analysis\n",
    "first_analysis_date = df[\"InvoiceDate\"].min()\n",
    "\n",
    "# Group Data by CustomerID\n",
    "# Calculate days between first analysis date and last invoice date\n",
    "# Count unique invoices\n",
    "# Get Total Price for each customer\n",
    "rfm = df.groupby('CustomerID').agg({'InvoiceDate': lambda date: (first_analysis_date - date.max()).days,\n",
    "                                     'InvoiceNo': lambda num: num.nunique(),\n",
    "                                     'TotalPrice': lambda TotalPrice: TotalPrice.sum()})"
   ]
  },
  {
   "cell_type": "code",
   "execution_count": 25,
   "metadata": {
    "colab": {
     "base_uri": "https://localhost:8080/",
     "height": 455
    },
    "executionInfo": {
     "elapsed": 6,
     "status": "ok",
     "timestamp": 1685562685329,
     "user": {
      "displayName": "Daniel Gareev",
      "userId": "12303687341496405104"
     },
     "user_tz": -180
    },
    "id": "bwZ7aLCS0_TS",
    "outputId": "04e0fe5a-ce25-444d-a6d1-3026f3c25a9e"
   },
   "outputs": [
    {
     "data": {
      "text/html": [
       "\n",
       "  <div id=\"df-582f55e7-0803-4938-907c-35e1e93035bb\">\n",
       "    <div class=\"colab-df-container\">\n",
       "      <div>\n",
       "<style scoped>\n",
       "    .dataframe tbody tr th:only-of-type {\n",
       "        vertical-align: middle;\n",
       "    }\n",
       "\n",
       "    .dataframe tbody tr th {\n",
       "        vertical-align: top;\n",
       "    }\n",
       "\n",
       "    .dataframe thead th {\n",
       "        text-align: right;\n",
       "    }\n",
       "</style>\n",
       "<table border=\"1\" class=\"dataframe\">\n",
       "  <thead>\n",
       "    <tr style=\"text-align: right;\">\n",
       "      <th></th>\n",
       "      <th>InvoiceDate</th>\n",
       "      <th>InvoiceNo</th>\n",
       "      <th>TotalPrice</th>\n",
       "    </tr>\n",
       "    <tr>\n",
       "      <th>CustomerID</th>\n",
       "      <th></th>\n",
       "      <th></th>\n",
       "      <th></th>\n",
       "    </tr>\n",
       "  </thead>\n",
       "  <tbody>\n",
       "    <tr>\n",
       "      <th>12347</th>\n",
       "      <td>-372</td>\n",
       "      <td>7</td>\n",
       "      <td>4310.00</td>\n",
       "    </tr>\n",
       "    <tr>\n",
       "      <th>12348</th>\n",
       "      <td>-299</td>\n",
       "      <td>4</td>\n",
       "      <td>1797.24</td>\n",
       "    </tr>\n",
       "    <tr>\n",
       "      <th>12349</th>\n",
       "      <td>-356</td>\n",
       "      <td>1</td>\n",
       "      <td>1757.55</td>\n",
       "    </tr>\n",
       "    <tr>\n",
       "      <th>12350</th>\n",
       "      <td>-64</td>\n",
       "      <td>1</td>\n",
       "      <td>334.40</td>\n",
       "    </tr>\n",
       "    <tr>\n",
       "      <th>12352</th>\n",
       "      <td>-338</td>\n",
       "      <td>8</td>\n",
       "      <td>2506.04</td>\n",
       "    </tr>\n",
       "    <tr>\n",
       "      <th>...</th>\n",
       "      <td>...</td>\n",
       "      <td>...</td>\n",
       "      <td>...</td>\n",
       "    </tr>\n",
       "    <tr>\n",
       "      <th>18280</th>\n",
       "      <td>-97</td>\n",
       "      <td>1</td>\n",
       "      <td>180.60</td>\n",
       "    </tr>\n",
       "    <tr>\n",
       "      <th>18281</th>\n",
       "      <td>-194</td>\n",
       "      <td>1</td>\n",
       "      <td>80.82</td>\n",
       "    </tr>\n",
       "    <tr>\n",
       "      <th>18282</th>\n",
       "      <td>-367</td>\n",
       "      <td>2</td>\n",
       "      <td>178.05</td>\n",
       "    </tr>\n",
       "    <tr>\n",
       "      <th>18283</th>\n",
       "      <td>-371</td>\n",
       "      <td>16</td>\n",
       "      <td>2045.53</td>\n",
       "    </tr>\n",
       "    <tr>\n",
       "      <th>18287</th>\n",
       "      <td>-332</td>\n",
       "      <td>3</td>\n",
       "      <td>1837.28</td>\n",
       "    </tr>\n",
       "  </tbody>\n",
       "</table>\n",
       "<p>4338 rows × 3 columns</p>\n",
       "</div>\n",
       "      <button class=\"colab-df-convert\" onclick=\"convertToInteractive('df-582f55e7-0803-4938-907c-35e1e93035bb')\"\n",
       "              title=\"Convert this dataframe to an interactive table.\"\n",
       "              style=\"display:none;\">\n",
       "        \n",
       "  <svg xmlns=\"http://www.w3.org/2000/svg\" height=\"24px\"viewBox=\"0 0 24 24\"\n",
       "       width=\"24px\">\n",
       "    <path d=\"M0 0h24v24H0V0z\" fill=\"none\"/>\n",
       "    <path d=\"M18.56 5.44l.94 2.06.94-2.06 2.06-.94-2.06-.94-.94-2.06-.94 2.06-2.06.94zm-11 1L8.5 8.5l.94-2.06 2.06-.94-2.06-.94L8.5 2.5l-.94 2.06-2.06.94zm10 10l.94 2.06.94-2.06 2.06-.94-2.06-.94-.94-2.06-.94 2.06-2.06.94z\"/><path d=\"M17.41 7.96l-1.37-1.37c-.4-.4-.92-.59-1.43-.59-.52 0-1.04.2-1.43.59L10.3 9.45l-7.72 7.72c-.78.78-.78 2.05 0 2.83L4 21.41c.39.39.9.59 1.41.59.51 0 1.02-.2 1.41-.59l7.78-7.78 2.81-2.81c.8-.78.8-2.07 0-2.86zM5.41 20L4 18.59l7.72-7.72 1.47 1.35L5.41 20z\"/>\n",
       "  </svg>\n",
       "      </button>\n",
       "      \n",
       "  <style>\n",
       "    .colab-df-container {\n",
       "      display:flex;\n",
       "      flex-wrap:wrap;\n",
       "      gap: 12px;\n",
       "    }\n",
       "\n",
       "    .colab-df-convert {\n",
       "      background-color: #E8F0FE;\n",
       "      border: none;\n",
       "      border-radius: 50%;\n",
       "      cursor: pointer;\n",
       "      display: none;\n",
       "      fill: #1967D2;\n",
       "      height: 32px;\n",
       "      padding: 0 0 0 0;\n",
       "      width: 32px;\n",
       "    }\n",
       "\n",
       "    .colab-df-convert:hover {\n",
       "      background-color: #E2EBFA;\n",
       "      box-shadow: 0px 1px 2px rgba(60, 64, 67, 0.3), 0px 1px 3px 1px rgba(60, 64, 67, 0.15);\n",
       "      fill: #174EA6;\n",
       "    }\n",
       "\n",
       "    [theme=dark] .colab-df-convert {\n",
       "      background-color: #3B4455;\n",
       "      fill: #D2E3FC;\n",
       "    }\n",
       "\n",
       "    [theme=dark] .colab-df-convert:hover {\n",
       "      background-color: #434B5C;\n",
       "      box-shadow: 0px 1px 3px 1px rgba(0, 0, 0, 0.15);\n",
       "      filter: drop-shadow(0px 1px 2px rgba(0, 0, 0, 0.3));\n",
       "      fill: #FFFFFF;\n",
       "    }\n",
       "  </style>\n",
       "\n",
       "      <script>\n",
       "        const buttonEl =\n",
       "          document.querySelector('#df-582f55e7-0803-4938-907c-35e1e93035bb button.colab-df-convert');\n",
       "        buttonEl.style.display =\n",
       "          google.colab.kernel.accessAllowed ? 'block' : 'none';\n",
       "\n",
       "        async function convertToInteractive(key) {\n",
       "          const element = document.querySelector('#df-582f55e7-0803-4938-907c-35e1e93035bb');\n",
       "          const dataTable =\n",
       "            await google.colab.kernel.invokeFunction('convertToInteractive',\n",
       "                                                     [key], {});\n",
       "          if (!dataTable) return;\n",
       "\n",
       "          const docLinkHtml = 'Like what you see? Visit the ' +\n",
       "            '<a target=\"_blank\" href=https://colab.research.google.com/notebooks/data_table.ipynb>data table notebook</a>'\n",
       "            + ' to learn more about interactive tables.';\n",
       "          element.innerHTML = '';\n",
       "          dataTable['output_type'] = 'display_data';\n",
       "          await google.colab.output.renderOutput(dataTable, element);\n",
       "          const docLink = document.createElement('div');\n",
       "          docLink.innerHTML = docLinkHtml;\n",
       "          element.appendChild(docLink);\n",
       "        }\n",
       "      </script>\n",
       "    </div>\n",
       "  </div>\n",
       "  "
      ],
      "text/plain": [
       "            InvoiceDate  InvoiceNo  TotalPrice\n",
       "CustomerID                                    \n",
       "12347              -372          7     4310.00\n",
       "12348              -299          4     1797.24\n",
       "12349              -356          1     1757.55\n",
       "12350               -64          1      334.40\n",
       "12352              -338          8     2506.04\n",
       "...                 ...        ...         ...\n",
       "18280               -97          1      180.60\n",
       "18281              -194          1       80.82\n",
       "18282              -367          2      178.05\n",
       "18283              -371         16     2045.53\n",
       "18287              -332          3     1837.28\n",
       "\n",
       "[4338 rows x 3 columns]"
      ]
     },
     "execution_count": 25,
     "metadata": {},
     "output_type": "execute_result"
    }
   ],
   "source": [
    "rfm"
   ]
  },
  {
   "cell_type": "code",
   "execution_count": 26,
   "metadata": {
    "executionInfo": {
     "elapsed": 5,
     "status": "ok",
     "timestamp": 1685562685329,
     "user": {
      "displayName": "Daniel Gareev",
      "userId": "12303687341496405104"
     },
     "user_tz": -180
    },
    "id": "S3B_XpaT0_TS"
   },
   "outputs": [],
   "source": [
    "# Rename InvoiceDate, InvoiceNo, TotalPrice to recency, frequency, total_spent\n",
    "rfm.columns = ['recency', 'frequency', 'total_spent']"
   ]
  },
  {
   "cell_type": "raw",
   "metadata": {
    "id": "jovT-_oT0_TT"
   },
   "source": [
    "rfm.head()"
   ]
  },
  {
   "cell_type": "code",
   "execution_count": 27,
   "metadata": {
    "colab": {
     "base_uri": "https://localhost:8080/",
     "height": 143
    },
    "executionInfo": {
     "elapsed": 5,
     "status": "ok",
     "timestamp": 1685562685329,
     "user": {
      "displayName": "Daniel Gareev",
      "userId": "12303687341496405104"
     },
     "user_tz": -180
    },
    "id": "neAs5QxD0_TT",
    "outputId": "20136d66-b2e1-48ee-d1c5-6b662b8088da"
   },
   "outputs": [
    {
     "data": {
      "text/html": [
       "\n",
       "  <div id=\"df-3d1ba8f2-9bf7-4a18-b526-5a288c7efa60\">\n",
       "    <div class=\"colab-df-container\">\n",
       "      <div>\n",
       "<style scoped>\n",
       "    .dataframe tbody tr th:only-of-type {\n",
       "        vertical-align: middle;\n",
       "    }\n",
       "\n",
       "    .dataframe tbody tr th {\n",
       "        vertical-align: top;\n",
       "    }\n",
       "\n",
       "    .dataframe thead th {\n",
       "        text-align: right;\n",
       "    }\n",
       "</style>\n",
       "<table border=\"1\" class=\"dataframe\">\n",
       "  <thead>\n",
       "    <tr style=\"text-align: right;\">\n",
       "      <th></th>\n",
       "      <th>count</th>\n",
       "      <th>mean</th>\n",
       "      <th>std</th>\n",
       "      <th>min</th>\n",
       "      <th>25%</th>\n",
       "      <th>50%</th>\n",
       "      <th>75%</th>\n",
       "      <th>max</th>\n",
       "    </tr>\n",
       "  </thead>\n",
       "  <tbody>\n",
       "    <tr>\n",
       "      <th>recency</th>\n",
       "      <td>4338.0</td>\n",
       "      <td>-281.952974</td>\n",
       "      <td>99.961812</td>\n",
       "      <td>-374.0</td>\n",
       "      <td>-357.00</td>\n",
       "      <td>-324.00</td>\n",
       "      <td>-232.2500</td>\n",
       "      <td>-1.00</td>\n",
       "    </tr>\n",
       "    <tr>\n",
       "      <th>frequency</th>\n",
       "      <td>4338.0</td>\n",
       "      <td>4.272015</td>\n",
       "      <td>7.704614</td>\n",
       "      <td>1.0</td>\n",
       "      <td>1.00</td>\n",
       "      <td>2.00</td>\n",
       "      <td>5.0000</td>\n",
       "      <td>210.00</td>\n",
       "    </tr>\n",
       "    <tr>\n",
       "      <th>total_spent</th>\n",
       "      <td>4338.0</td>\n",
       "      <td>1976.537442</td>\n",
       "      <td>8461.295778</td>\n",
       "      <td>0.0</td>\n",
       "      <td>306.21</td>\n",
       "      <td>668.04</td>\n",
       "      <td>1653.7775</td>\n",
       "      <td>280206.02</td>\n",
       "    </tr>\n",
       "  </tbody>\n",
       "</table>\n",
       "</div>\n",
       "      <button class=\"colab-df-convert\" onclick=\"convertToInteractive('df-3d1ba8f2-9bf7-4a18-b526-5a288c7efa60')\"\n",
       "              title=\"Convert this dataframe to an interactive table.\"\n",
       "              style=\"display:none;\">\n",
       "        \n",
       "  <svg xmlns=\"http://www.w3.org/2000/svg\" height=\"24px\"viewBox=\"0 0 24 24\"\n",
       "       width=\"24px\">\n",
       "    <path d=\"M0 0h24v24H0V0z\" fill=\"none\"/>\n",
       "    <path d=\"M18.56 5.44l.94 2.06.94-2.06 2.06-.94-2.06-.94-.94-2.06-.94 2.06-2.06.94zm-11 1L8.5 8.5l.94-2.06 2.06-.94-2.06-.94L8.5 2.5l-.94 2.06-2.06.94zm10 10l.94 2.06.94-2.06 2.06-.94-2.06-.94-.94-2.06-.94 2.06-2.06.94z\"/><path d=\"M17.41 7.96l-1.37-1.37c-.4-.4-.92-.59-1.43-.59-.52 0-1.04.2-1.43.59L10.3 9.45l-7.72 7.72c-.78.78-.78 2.05 0 2.83L4 21.41c.39.39.9.59 1.41.59.51 0 1.02-.2 1.41-.59l7.78-7.78 2.81-2.81c.8-.78.8-2.07 0-2.86zM5.41 20L4 18.59l7.72-7.72 1.47 1.35L5.41 20z\"/>\n",
       "  </svg>\n",
       "      </button>\n",
       "      \n",
       "  <style>\n",
       "    .colab-df-container {\n",
       "      display:flex;\n",
       "      flex-wrap:wrap;\n",
       "      gap: 12px;\n",
       "    }\n",
       "\n",
       "    .colab-df-convert {\n",
       "      background-color: #E8F0FE;\n",
       "      border: none;\n",
       "      border-radius: 50%;\n",
       "      cursor: pointer;\n",
       "      display: none;\n",
       "      fill: #1967D2;\n",
       "      height: 32px;\n",
       "      padding: 0 0 0 0;\n",
       "      width: 32px;\n",
       "    }\n",
       "\n",
       "    .colab-df-convert:hover {\n",
       "      background-color: #E2EBFA;\n",
       "      box-shadow: 0px 1px 2px rgba(60, 64, 67, 0.3), 0px 1px 3px 1px rgba(60, 64, 67, 0.15);\n",
       "      fill: #174EA6;\n",
       "    }\n",
       "\n",
       "    [theme=dark] .colab-df-convert {\n",
       "      background-color: #3B4455;\n",
       "      fill: #D2E3FC;\n",
       "    }\n",
       "\n",
       "    [theme=dark] .colab-df-convert:hover {\n",
       "      background-color: #434B5C;\n",
       "      box-shadow: 0px 1px 3px 1px rgba(0, 0, 0, 0.15);\n",
       "      filter: drop-shadow(0px 1px 2px rgba(0, 0, 0, 0.3));\n",
       "      fill: #FFFFFF;\n",
       "    }\n",
       "  </style>\n",
       "\n",
       "      <script>\n",
       "        const buttonEl =\n",
       "          document.querySelector('#df-3d1ba8f2-9bf7-4a18-b526-5a288c7efa60 button.colab-df-convert');\n",
       "        buttonEl.style.display =\n",
       "          google.colab.kernel.accessAllowed ? 'block' : 'none';\n",
       "\n",
       "        async function convertToInteractive(key) {\n",
       "          const element = document.querySelector('#df-3d1ba8f2-9bf7-4a18-b526-5a288c7efa60');\n",
       "          const dataTable =\n",
       "            await google.colab.kernel.invokeFunction('convertToInteractive',\n",
       "                                                     [key], {});\n",
       "          if (!dataTable) return;\n",
       "\n",
       "          const docLinkHtml = 'Like what you see? Visit the ' +\n",
       "            '<a target=\"_blank\" href=https://colab.research.google.com/notebooks/data_table.ipynb>data table notebook</a>'\n",
       "            + ' to learn more about interactive tables.';\n",
       "          element.innerHTML = '';\n",
       "          dataTable['output_type'] = 'display_data';\n",
       "          await google.colab.output.renderOutput(dataTable, element);\n",
       "          const docLink = document.createElement('div');\n",
       "          docLink.innerHTML = docLinkHtml;\n",
       "          element.appendChild(docLink);\n",
       "        }\n",
       "      </script>\n",
       "    </div>\n",
       "  </div>\n",
       "  "
      ],
      "text/plain": [
       "              count         mean          std    min     25%     50%  \\\n",
       "recency      4338.0  -281.952974    99.961812 -374.0 -357.00 -324.00   \n",
       "frequency    4338.0     4.272015     7.704614    1.0    1.00    2.00   \n",
       "total_spent  4338.0  1976.537442  8461.295778    0.0  306.21  668.04   \n",
       "\n",
       "                   75%        max  \n",
       "recency      -232.2500      -1.00  \n",
       "frequency       5.0000     210.00  \n",
       "total_spent  1653.7775  280206.02  "
      ]
     },
     "execution_count": 27,
     "metadata": {},
     "output_type": "execute_result"
    }
   ],
   "source": [
    "# Return descriptive statistics of the dataframe and transpose.\n",
    "rfm.describe().T"
   ]
  },
  {
   "cell_type": "code",
   "execution_count": 28,
   "metadata": {
    "executionInfo": {
     "elapsed": 5,
     "status": "ok",
     "timestamp": 1685562685329,
     "user": {
      "displayName": "Daniel Gareev",
      "userId": "12303687341496405104"
     },
     "user_tz": -180
    },
    "id": "N3F-ErOd0_TU"
   },
   "outputs": [],
   "source": [
    "# Filter the rfm dataframe to only include rows where \"total_spent\" > 0 (Only customers who had a positive monetary impact)\n",
    "rfm = rfm[rfm[\"total_spent\"] > 0]"
   ]
  },
  {
   "cell_type": "code",
   "execution_count": 29,
   "metadata": {
    "colab": {
     "base_uri": "https://localhost:8080/",
     "height": 143
    },
    "executionInfo": {
     "elapsed": 5,
     "status": "ok",
     "timestamp": 1685562685329,
     "user": {
      "displayName": "Daniel Gareev",
      "userId": "12303687341496405104"
     },
     "user_tz": -180
    },
    "id": "uXdFNs9s0_TV",
    "outputId": "64818eb0-7047-459f-c454-b62e6dcfa5c5"
   },
   "outputs": [
    {
     "data": {
      "text/html": [
       "\n",
       "  <div id=\"df-3b3e0f73-bb40-4cf0-8238-8c7abeba7253\">\n",
       "    <div class=\"colab-df-container\">\n",
       "      <div>\n",
       "<style scoped>\n",
       "    .dataframe tbody tr th:only-of-type {\n",
       "        vertical-align: middle;\n",
       "    }\n",
       "\n",
       "    .dataframe tbody tr th {\n",
       "        vertical-align: top;\n",
       "    }\n",
       "\n",
       "    .dataframe thead th {\n",
       "        text-align: right;\n",
       "    }\n",
       "</style>\n",
       "<table border=\"1\" class=\"dataframe\">\n",
       "  <thead>\n",
       "    <tr style=\"text-align: right;\">\n",
       "      <th></th>\n",
       "      <th>count</th>\n",
       "      <th>mean</th>\n",
       "      <th>std</th>\n",
       "      <th>min</th>\n",
       "      <th>25%</th>\n",
       "      <th>50%</th>\n",
       "      <th>75%</th>\n",
       "      <th>max</th>\n",
       "    </tr>\n",
       "  </thead>\n",
       "  <tbody>\n",
       "    <tr>\n",
       "      <th>recency</th>\n",
       "      <td>4337.0</td>\n",
       "      <td>-281.934978</td>\n",
       "      <td>99.966311</td>\n",
       "      <td>-374.0</td>\n",
       "      <td>-357.00</td>\n",
       "      <td>-324.00</td>\n",
       "      <td>-232.00</td>\n",
       "      <td>-1.00</td>\n",
       "    </tr>\n",
       "    <tr>\n",
       "      <th>frequency</th>\n",
       "      <td>4337.0</td>\n",
       "      <td>4.272769</td>\n",
       "      <td>7.705343</td>\n",
       "      <td>1.0</td>\n",
       "      <td>1.00</td>\n",
       "      <td>2.00</td>\n",
       "      <td>5.00</td>\n",
       "      <td>210.00</td>\n",
       "    </tr>\n",
       "    <tr>\n",
       "      <th>total_spent</th>\n",
       "      <td>4337.0</td>\n",
       "      <td>1976.993181</td>\n",
       "      <td>8462.218176</td>\n",
       "      <td>2.9</td>\n",
       "      <td>306.45</td>\n",
       "      <td>668.43</td>\n",
       "      <td>1654.31</td>\n",
       "      <td>280206.02</td>\n",
       "    </tr>\n",
       "  </tbody>\n",
       "</table>\n",
       "</div>\n",
       "      <button class=\"colab-df-convert\" onclick=\"convertToInteractive('df-3b3e0f73-bb40-4cf0-8238-8c7abeba7253')\"\n",
       "              title=\"Convert this dataframe to an interactive table.\"\n",
       "              style=\"display:none;\">\n",
       "        \n",
       "  <svg xmlns=\"http://www.w3.org/2000/svg\" height=\"24px\"viewBox=\"0 0 24 24\"\n",
       "       width=\"24px\">\n",
       "    <path d=\"M0 0h24v24H0V0z\" fill=\"none\"/>\n",
       "    <path d=\"M18.56 5.44l.94 2.06.94-2.06 2.06-.94-2.06-.94-.94-2.06-.94 2.06-2.06.94zm-11 1L8.5 8.5l.94-2.06 2.06-.94-2.06-.94L8.5 2.5l-.94 2.06-2.06.94zm10 10l.94 2.06.94-2.06 2.06-.94-2.06-.94-.94-2.06-.94 2.06-2.06.94z\"/><path d=\"M17.41 7.96l-1.37-1.37c-.4-.4-.92-.59-1.43-.59-.52 0-1.04.2-1.43.59L10.3 9.45l-7.72 7.72c-.78.78-.78 2.05 0 2.83L4 21.41c.39.39.9.59 1.41.59.51 0 1.02-.2 1.41-.59l7.78-7.78 2.81-2.81c.8-.78.8-2.07 0-2.86zM5.41 20L4 18.59l7.72-7.72 1.47 1.35L5.41 20z\"/>\n",
       "  </svg>\n",
       "      </button>\n",
       "      \n",
       "  <style>\n",
       "    .colab-df-container {\n",
       "      display:flex;\n",
       "      flex-wrap:wrap;\n",
       "      gap: 12px;\n",
       "    }\n",
       "\n",
       "    .colab-df-convert {\n",
       "      background-color: #E8F0FE;\n",
       "      border: none;\n",
       "      border-radius: 50%;\n",
       "      cursor: pointer;\n",
       "      display: none;\n",
       "      fill: #1967D2;\n",
       "      height: 32px;\n",
       "      padding: 0 0 0 0;\n",
       "      width: 32px;\n",
       "    }\n",
       "\n",
       "    .colab-df-convert:hover {\n",
       "      background-color: #E2EBFA;\n",
       "      box-shadow: 0px 1px 2px rgba(60, 64, 67, 0.3), 0px 1px 3px 1px rgba(60, 64, 67, 0.15);\n",
       "      fill: #174EA6;\n",
       "    }\n",
       "\n",
       "    [theme=dark] .colab-df-convert {\n",
       "      background-color: #3B4455;\n",
       "      fill: #D2E3FC;\n",
       "    }\n",
       "\n",
       "    [theme=dark] .colab-df-convert:hover {\n",
       "      background-color: #434B5C;\n",
       "      box-shadow: 0px 1px 3px 1px rgba(0, 0, 0, 0.15);\n",
       "      filter: drop-shadow(0px 1px 2px rgba(0, 0, 0, 0.3));\n",
       "      fill: #FFFFFF;\n",
       "    }\n",
       "  </style>\n",
       "\n",
       "      <script>\n",
       "        const buttonEl =\n",
       "          document.querySelector('#df-3b3e0f73-bb40-4cf0-8238-8c7abeba7253 button.colab-df-convert');\n",
       "        buttonEl.style.display =\n",
       "          google.colab.kernel.accessAllowed ? 'block' : 'none';\n",
       "\n",
       "        async function convertToInteractive(key) {\n",
       "          const element = document.querySelector('#df-3b3e0f73-bb40-4cf0-8238-8c7abeba7253');\n",
       "          const dataTable =\n",
       "            await google.colab.kernel.invokeFunction('convertToInteractive',\n",
       "                                                     [key], {});\n",
       "          if (!dataTable) return;\n",
       "\n",
       "          const docLinkHtml = 'Like what you see? Visit the ' +\n",
       "            '<a target=\"_blank\" href=https://colab.research.google.com/notebooks/data_table.ipynb>data table notebook</a>'\n",
       "            + ' to learn more about interactive tables.';\n",
       "          element.innerHTML = '';\n",
       "          dataTable['output_type'] = 'display_data';\n",
       "          await google.colab.output.renderOutput(dataTable, element);\n",
       "          const docLink = document.createElement('div');\n",
       "          docLink.innerHTML = docLinkHtml;\n",
       "          element.appendChild(docLink);\n",
       "        }\n",
       "      </script>\n",
       "    </div>\n",
       "  </div>\n",
       "  "
      ],
      "text/plain": [
       "              count         mean          std    min     25%     50%      75%  \\\n",
       "recency      4337.0  -281.934978    99.966311 -374.0 -357.00 -324.00  -232.00   \n",
       "frequency    4337.0     4.272769     7.705343    1.0    1.00    2.00     5.00   \n",
       "total_spent  4337.0  1976.993181  8462.218176    2.9  306.45  668.43  1654.31   \n",
       "\n",
       "                   max  \n",
       "recency          -1.00  \n",
       "frequency       210.00  \n",
       "total_spent  280206.02  "
      ]
     },
     "execution_count": 29,
     "metadata": {},
     "output_type": "execute_result"
    }
   ],
   "source": [
    "# Return descriptive statistics of the dataframe and transpose.\n",
    "rfm.describe().T"
   ]
  },
  {
   "cell_type": "code",
   "execution_count": 30,
   "metadata": {
    "colab": {
     "base_uri": "https://localhost:8080/"
    },
    "executionInfo": {
     "elapsed": 9,
     "status": "ok",
     "timestamp": 1685562685738,
     "user": {
      "displayName": "Daniel Gareev",
      "userId": "12303687341496405104"
     },
     "user_tz": -180
    },
    "id": "tJkdch4Q0_TW",
    "outputId": "2954f8fa-523b-435a-b227-4a4cc2ed9d92"
   },
   "outputs": [
    {
     "name": "stderr",
     "output_type": "stream",
     "text": [
      "<ipython-input-30-3e87cc4f2e63>:4: SettingWithCopyWarning: \n",
      "A value is trying to be set on a copy of a slice from a DataFrame.\n",
      "Try using .loc[row_indexer,col_indexer] = value instead\n",
      "\n",
      "See the caveats in the documentation: https://pandas.pydata.org/pandas-docs/stable/user_guide/indexing.html#returning-a-view-versus-a-copy\n",
      "  rfm[\"recency_score\"] = pd.qcut(rfm['recency'], 5, labels=[5,4,3,2,1])\n",
      "<ipython-input-30-3e87cc4f2e63>:8: SettingWithCopyWarning: \n",
      "A value is trying to be set on a copy of a slice from a DataFrame.\n",
      "Try using .loc[row_indexer,col_indexer] = value instead\n",
      "\n",
      "See the caveats in the documentation: https://pandas.pydata.org/pandas-docs/stable/user_guide/indexing.html#returning-a-view-versus-a-copy\n",
      "  rfm[\"frequency_score\"] = pd.qcut(rfm['frequency'].rank(method=\"first\"), 5, labels=[1, 2, 3, 4, 5])\n",
      "<ipython-input-30-3e87cc4f2e63>:11: SettingWithCopyWarning: \n",
      "A value is trying to be set on a copy of a slice from a DataFrame.\n",
      "Try using .loc[row_indexer,col_indexer] = value instead\n",
      "\n",
      "See the caveats in the documentation: https://pandas.pydata.org/pandas-docs/stable/user_guide/indexing.html#returning-a-view-versus-a-copy\n",
      "  rfm[\"total_spent_score\"] = pd.qcut(rfm['total_spent'], 5, labels=[1,2,3,4,5])\n"
     ]
    }
   ],
   "source": [
    "# Create scores based on RFM metrics\n",
    "\n",
    "# Recenency score is inverted, because lower recency (negative numbers) -> better\n",
    "rfm[\"recency_score\"] = pd.qcut(rfm['recency'], 5, labels=[5,4,3,2,1])\n",
    "\n",
    "\n",
    "# Frequency score - Higher = Better\n",
    "rfm[\"frequency_score\"] = pd.qcut(rfm['frequency'].rank(method=\"first\"), 5, labels=[1, 2, 3, 4, 5])\n",
    "\n",
    "# Total Spent score - Higher = Better\n",
    "rfm[\"total_spent_score\"] = pd.qcut(rfm['total_spent'], 5, labels=[1,2,3,4,5])"
   ]
  },
  {
   "cell_type": "code",
   "execution_count": 31,
   "metadata": {
    "colab": {
     "base_uri": "https://localhost:8080/"
    },
    "executionInfo": {
     "elapsed": 8,
     "status": "ok",
     "timestamp": 1685562685738,
     "user": {
      "displayName": "Daniel Gareev",
      "userId": "12303687341496405104"
     },
     "user_tz": -180
    },
    "id": "TrXTCd5v0_TX",
    "outputId": "560508ad-113d-47a5-d695-c00ef390a6a2"
   },
   "outputs": [
    {
     "name": "stderr",
     "output_type": "stream",
     "text": [
      "<ipython-input-31-13dcfb81560f>:2: SettingWithCopyWarning: \n",
      "A value is trying to be set on a copy of a slice from a DataFrame.\n",
      "Try using .loc[row_indexer,col_indexer] = value instead\n",
      "\n",
      "See the caveats in the documentation: https://pandas.pydata.org/pandas-docs/stable/user_guide/indexing.html#returning-a-view-versus-a-copy\n",
      "  rfm[\"RFM_SCORE\"] = (rfm['recency_score'].astype(str) +\n"
     ]
    }
   ],
   "source": [
    "# Create two-digit RFM_Score (not considering total_spent value)\n",
    "rfm[\"RFM_SCORE\"] = (rfm['recency_score'].astype(str) +\n",
    "                   rfm['frequency_score'].astype(str))"
   ]
  },
  {
   "cell_type": "code",
   "execution_count": 32,
   "metadata": {
    "executionInfo": {
     "elapsed": 7,
     "status": "ok",
     "timestamp": 1685562685738,
     "user": {
      "displayName": "Daniel Gareev",
      "userId": "12303687341496405104"
     },
     "user_tz": -180
    },
    "id": "sx_IZnhL0_TX"
   },
   "outputs": [],
   "source": [
    "# Segment customers based on their RFM_SCORE.\n",
    "seg_map = {\n",
    "    r'[1-2][1-2]': 'inactive_customers',\n",
    "    r'[1-2][3-4]': 'high_risk',\n",
    "    r'[1-2]5': 'recoverable_customers',\n",
    "    r'3[1-2]': 'slipping_away',\n",
    "    r'33': 'require_attention',\n",
    "    r'[3-4][4-5]': 'steady_supporters',\n",
    "    r'41': 'recently_onboarded',\n",
    "    r'51': 'new_customers',\n",
    "    r'[4-5][2-3]': 'loyalty_potential',\n",
    "    r'5[4-5]': 'brand_ambassadors'\n",
    "}"
   ]
  },
  {
   "cell_type": "code",
   "execution_count": 33,
   "metadata": {
    "colab": {
     "base_uri": "https://localhost:8080/"
    },
    "executionInfo": {
     "elapsed": 8,
     "status": "ok",
     "timestamp": 1685562685739,
     "user": {
      "displayName": "Daniel Gareev",
      "userId": "12303687341496405104"
     },
     "user_tz": -180
    },
    "id": "ke-2BEVu0_TY",
    "outputId": "3beb0c02-fd9d-4f6f-e8f3-2c6ea37ff29a"
   },
   "outputs": [
    {
     "name": "stderr",
     "output_type": "stream",
     "text": [
      "<ipython-input-33-b534fb95aebb>:3: SettingWithCopyWarning: \n",
      "A value is trying to be set on a copy of a slice from a DataFrame.\n",
      "Try using .loc[row_indexer,col_indexer] = value instead\n",
      "\n",
      "See the caveats in the documentation: https://pandas.pydata.org/pandas-docs/stable/user_guide/indexing.html#returning-a-view-versus-a-copy\n",
      "  rfm['segment'] = rfm['RFM_SCORE'].replace(seg_map, regex=True)\n"
     ]
    }
   ],
   "source": [
    "# Each RFM_Score value is matched against the keys in seg_map. When a match is found, the RFM_SCORE value is replaced\n",
    "# by the value found in seg_map. This classifies each customer into one of the segments in seg_map\n",
    "rfm['segment'] = rfm['RFM_SCORE'].replace(seg_map, regex=True)"
   ]
  },
  {
   "cell_type": "code",
   "execution_count": 34,
   "metadata": {
    "colab": {
     "base_uri": "https://localhost:8080/",
     "height": 237
    },
    "executionInfo": {
     "elapsed": 7,
     "status": "ok",
     "timestamp": 1685562685739,
     "user": {
      "displayName": "Daniel Gareev",
      "userId": "12303687341496405104"
     },
     "user_tz": -180
    },
    "id": "-TcrM9KG0_TY",
    "outputId": "9d3311b9-1232-4799-b1d4-297758cec4ea"
   },
   "outputs": [
    {
     "data": {
      "text/html": [
       "\n",
       "  <div id=\"df-e4d0521b-710f-44e6-bd0d-86aa7ecfb599\">\n",
       "    <div class=\"colab-df-container\">\n",
       "      <div>\n",
       "<style scoped>\n",
       "    .dataframe tbody tr th:only-of-type {\n",
       "        vertical-align: middle;\n",
       "    }\n",
       "\n",
       "    .dataframe tbody tr th {\n",
       "        vertical-align: top;\n",
       "    }\n",
       "\n",
       "    .dataframe thead th {\n",
       "        text-align: right;\n",
       "    }\n",
       "</style>\n",
       "<table border=\"1\" class=\"dataframe\">\n",
       "  <thead>\n",
       "    <tr style=\"text-align: right;\">\n",
       "      <th></th>\n",
       "      <th>recency</th>\n",
       "      <th>frequency</th>\n",
       "      <th>total_spent</th>\n",
       "      <th>recency_score</th>\n",
       "      <th>frequency_score</th>\n",
       "      <th>total_spent_score</th>\n",
       "      <th>RFM_SCORE</th>\n",
       "      <th>segment</th>\n",
       "    </tr>\n",
       "    <tr>\n",
       "      <th>CustomerID</th>\n",
       "      <th></th>\n",
       "      <th></th>\n",
       "      <th></th>\n",
       "      <th></th>\n",
       "      <th></th>\n",
       "      <th></th>\n",
       "      <th></th>\n",
       "      <th></th>\n",
       "    </tr>\n",
       "  </thead>\n",
       "  <tbody>\n",
       "    <tr>\n",
       "      <th>12347</th>\n",
       "      <td>-372</td>\n",
       "      <td>7</td>\n",
       "      <td>4310.00</td>\n",
       "      <td>5</td>\n",
       "      <td>5</td>\n",
       "      <td>5</td>\n",
       "      <td>55</td>\n",
       "      <td>brand_ambassadors</td>\n",
       "    </tr>\n",
       "    <tr>\n",
       "      <th>12348</th>\n",
       "      <td>-299</td>\n",
       "      <td>4</td>\n",
       "      <td>1797.24</td>\n",
       "      <td>2</td>\n",
       "      <td>4</td>\n",
       "      <td>4</td>\n",
       "      <td>24</td>\n",
       "      <td>high_risk</td>\n",
       "    </tr>\n",
       "    <tr>\n",
       "      <th>12349</th>\n",
       "      <td>-356</td>\n",
       "      <td>1</td>\n",
       "      <td>1757.55</td>\n",
       "      <td>4</td>\n",
       "      <td>1</td>\n",
       "      <td>4</td>\n",
       "      <td>41</td>\n",
       "      <td>recently_onboarded</td>\n",
       "    </tr>\n",
       "    <tr>\n",
       "      <th>12350</th>\n",
       "      <td>-64</td>\n",
       "      <td>1</td>\n",
       "      <td>334.40</td>\n",
       "      <td>1</td>\n",
       "      <td>1</td>\n",
       "      <td>2</td>\n",
       "      <td>11</td>\n",
       "      <td>inactive_customers</td>\n",
       "    </tr>\n",
       "    <tr>\n",
       "      <th>12352</th>\n",
       "      <td>-338</td>\n",
       "      <td>8</td>\n",
       "      <td>2506.04</td>\n",
       "      <td>3</td>\n",
       "      <td>5</td>\n",
       "      <td>5</td>\n",
       "      <td>35</td>\n",
       "      <td>steady_supporters</td>\n",
       "    </tr>\n",
       "  </tbody>\n",
       "</table>\n",
       "</div>\n",
       "      <button class=\"colab-df-convert\" onclick=\"convertToInteractive('df-e4d0521b-710f-44e6-bd0d-86aa7ecfb599')\"\n",
       "              title=\"Convert this dataframe to an interactive table.\"\n",
       "              style=\"display:none;\">\n",
       "        \n",
       "  <svg xmlns=\"http://www.w3.org/2000/svg\" height=\"24px\"viewBox=\"0 0 24 24\"\n",
       "       width=\"24px\">\n",
       "    <path d=\"M0 0h24v24H0V0z\" fill=\"none\"/>\n",
       "    <path d=\"M18.56 5.44l.94 2.06.94-2.06 2.06-.94-2.06-.94-.94-2.06-.94 2.06-2.06.94zm-11 1L8.5 8.5l.94-2.06 2.06-.94-2.06-.94L8.5 2.5l-.94 2.06-2.06.94zm10 10l.94 2.06.94-2.06 2.06-.94-2.06-.94-.94-2.06-.94 2.06-2.06.94z\"/><path d=\"M17.41 7.96l-1.37-1.37c-.4-.4-.92-.59-1.43-.59-.52 0-1.04.2-1.43.59L10.3 9.45l-7.72 7.72c-.78.78-.78 2.05 0 2.83L4 21.41c.39.39.9.59 1.41.59.51 0 1.02-.2 1.41-.59l7.78-7.78 2.81-2.81c.8-.78.8-2.07 0-2.86zM5.41 20L4 18.59l7.72-7.72 1.47 1.35L5.41 20z\"/>\n",
       "  </svg>\n",
       "      </button>\n",
       "      \n",
       "  <style>\n",
       "    .colab-df-container {\n",
       "      display:flex;\n",
       "      flex-wrap:wrap;\n",
       "      gap: 12px;\n",
       "    }\n",
       "\n",
       "    .colab-df-convert {\n",
       "      background-color: #E8F0FE;\n",
       "      border: none;\n",
       "      border-radius: 50%;\n",
       "      cursor: pointer;\n",
       "      display: none;\n",
       "      fill: #1967D2;\n",
       "      height: 32px;\n",
       "      padding: 0 0 0 0;\n",
       "      width: 32px;\n",
       "    }\n",
       "\n",
       "    .colab-df-convert:hover {\n",
       "      background-color: #E2EBFA;\n",
       "      box-shadow: 0px 1px 2px rgba(60, 64, 67, 0.3), 0px 1px 3px 1px rgba(60, 64, 67, 0.15);\n",
       "      fill: #174EA6;\n",
       "    }\n",
       "\n",
       "    [theme=dark] .colab-df-convert {\n",
       "      background-color: #3B4455;\n",
       "      fill: #D2E3FC;\n",
       "    }\n",
       "\n",
       "    [theme=dark] .colab-df-convert:hover {\n",
       "      background-color: #434B5C;\n",
       "      box-shadow: 0px 1px 3px 1px rgba(0, 0, 0, 0.15);\n",
       "      filter: drop-shadow(0px 1px 2px rgba(0, 0, 0, 0.3));\n",
       "      fill: #FFFFFF;\n",
       "    }\n",
       "  </style>\n",
       "\n",
       "      <script>\n",
       "        const buttonEl =\n",
       "          document.querySelector('#df-e4d0521b-710f-44e6-bd0d-86aa7ecfb599 button.colab-df-convert');\n",
       "        buttonEl.style.display =\n",
       "          google.colab.kernel.accessAllowed ? 'block' : 'none';\n",
       "\n",
       "        async function convertToInteractive(key) {\n",
       "          const element = document.querySelector('#df-e4d0521b-710f-44e6-bd0d-86aa7ecfb599');\n",
       "          const dataTable =\n",
       "            await google.colab.kernel.invokeFunction('convertToInteractive',\n",
       "                                                     [key], {});\n",
       "          if (!dataTable) return;\n",
       "\n",
       "          const docLinkHtml = 'Like what you see? Visit the ' +\n",
       "            '<a target=\"_blank\" href=https://colab.research.google.com/notebooks/data_table.ipynb>data table notebook</a>'\n",
       "            + ' to learn more about interactive tables.';\n",
       "          element.innerHTML = '';\n",
       "          dataTable['output_type'] = 'display_data';\n",
       "          await google.colab.output.renderOutput(dataTable, element);\n",
       "          const docLink = document.createElement('div');\n",
       "          docLink.innerHTML = docLinkHtml;\n",
       "          element.appendChild(docLink);\n",
       "        }\n",
       "      </script>\n",
       "    </div>\n",
       "  </div>\n",
       "  "
      ],
      "text/plain": [
       "            recency  frequency  total_spent recency_score frequency_score  \\\n",
       "CustomerID                                                                  \n",
       "12347          -372          7      4310.00             5               5   \n",
       "12348          -299          4      1797.24             2               4   \n",
       "12349          -356          1      1757.55             4               1   \n",
       "12350           -64          1       334.40             1               1   \n",
       "12352          -338          8      2506.04             3               5   \n",
       "\n",
       "           total_spent_score RFM_SCORE             segment  \n",
       "CustomerID                                                  \n",
       "12347                      5        55   brand_ambassadors  \n",
       "12348                      4        24           high_risk  \n",
       "12349                      4        41  recently_onboarded  \n",
       "12350                      2        11  inactive_customers  \n",
       "12352                      5        35   steady_supporters  "
      ]
     },
     "execution_count": 34,
     "metadata": {},
     "output_type": "execute_result"
    }
   ],
   "source": [
    "rfm.head()"
   ]
  },
  {
   "cell_type": "code",
   "execution_count": 35,
   "metadata": {
    "colab": {
     "base_uri": "https://localhost:8080/",
     "height": 425
    },
    "executionInfo": {
     "elapsed": 7,
     "status": "ok",
     "timestamp": 1685562685739,
     "user": {
      "displayName": "Daniel Gareev",
      "userId": "12303687341496405104"
     },
     "user_tz": -180
    },
    "id": "YNMEG68C0_TZ",
    "outputId": "98d5a18d-c8ca-4455-d5b6-05e3aad7234b"
   },
   "outputs": [
    {
     "data": {
      "text/html": [
       "\n",
       "  <div id=\"df-b872b8d3-63fd-4a51-a8f8-1f7b4b5ab5a2\">\n",
       "    <div class=\"colab-df-container\">\n",
       "      <div>\n",
       "<style scoped>\n",
       "    .dataframe tbody tr th:only-of-type {\n",
       "        vertical-align: middle;\n",
       "    }\n",
       "\n",
       "    .dataframe tbody tr th {\n",
       "        vertical-align: top;\n",
       "    }\n",
       "\n",
       "    .dataframe thead tr th {\n",
       "        text-align: left;\n",
       "    }\n",
       "\n",
       "    .dataframe thead tr:last-of-type th {\n",
       "        text-align: right;\n",
       "    }\n",
       "</style>\n",
       "<table border=\"1\" class=\"dataframe\">\n",
       "  <thead>\n",
       "    <tr>\n",
       "      <th></th>\n",
       "      <th colspan=\"2\" halign=\"left\">recency</th>\n",
       "      <th colspan=\"2\" halign=\"left\">frequency</th>\n",
       "      <th colspan=\"2\" halign=\"left\">total_spent</th>\n",
       "    </tr>\n",
       "    <tr>\n",
       "      <th></th>\n",
       "      <th>mean</th>\n",
       "      <th>count</th>\n",
       "      <th>mean</th>\n",
       "      <th>count</th>\n",
       "      <th>mean</th>\n",
       "      <th>count</th>\n",
       "    </tr>\n",
       "    <tr>\n",
       "      <th>segment</th>\n",
       "      <th></th>\n",
       "      <th></th>\n",
       "      <th></th>\n",
       "      <th></th>\n",
       "      <th></th>\n",
       "      <th></th>\n",
       "    </tr>\n",
       "  </thead>\n",
       "  <tbody>\n",
       "    <tr>\n",
       "      <th>brand_ambassadors</th>\n",
       "      <td>-368.340458</td>\n",
       "      <td>655</td>\n",
       "      <td>12.279389</td>\n",
       "      <td>655</td>\n",
       "      <td>6703.140061</td>\n",
       "      <td>655</td>\n",
       "    </tr>\n",
       "    <tr>\n",
       "      <th>high_risk</th>\n",
       "      <td>-221.205734</td>\n",
       "      <td>593</td>\n",
       "      <td>2.876897</td>\n",
       "      <td>593</td>\n",
       "      <td>993.148366</td>\n",
       "      <td>593</td>\n",
       "    </tr>\n",
       "    <tr>\n",
       "      <th>inactive_customers</th>\n",
       "      <td>-157.493931</td>\n",
       "      <td>1071</td>\n",
       "      <td>1.101774</td>\n",
       "      <td>1071</td>\n",
       "      <td>415.564764</td>\n",
       "      <td>1071</td>\n",
       "    </tr>\n",
       "    <tr>\n",
       "      <th>loyalty_potential</th>\n",
       "      <td>-357.570539</td>\n",
       "      <td>482</td>\n",
       "      <td>2.012448</td>\n",
       "      <td>482</td>\n",
       "      <td>690.830021</td>\n",
       "      <td>482</td>\n",
       "    </tr>\n",
       "    <tr>\n",
       "      <th>new_customers</th>\n",
       "      <td>-366.702128</td>\n",
       "      <td>47</td>\n",
       "      <td>1.000000</td>\n",
       "      <td>47</td>\n",
       "      <td>367.003191</td>\n",
       "      <td>47</td>\n",
       "    </tr>\n",
       "    <tr>\n",
       "      <th>recently_onboarded</th>\n",
       "      <td>-350.977778</td>\n",
       "      <td>90</td>\n",
       "      <td>1.000000</td>\n",
       "      <td>90</td>\n",
       "      <td>295.330667</td>\n",
       "      <td>90</td>\n",
       "    </tr>\n",
       "    <tr>\n",
       "      <th>recoverable_customers</th>\n",
       "      <td>-242.031746</td>\n",
       "      <td>63</td>\n",
       "      <td>8.380952</td>\n",
       "      <td>63</td>\n",
       "      <td>2790.101429</td>\n",
       "      <td>63</td>\n",
       "    </tr>\n",
       "    <tr>\n",
       "      <th>require_attention</th>\n",
       "      <td>-322.561497</td>\n",
       "      <td>187</td>\n",
       "      <td>2.326203</td>\n",
       "      <td>187</td>\n",
       "      <td>892.505936</td>\n",
       "      <td>187</td>\n",
       "    </tr>\n",
       "    <tr>\n",
       "      <th>slipping_away</th>\n",
       "      <td>-321.678977</td>\n",
       "      <td>352</td>\n",
       "      <td>1.161932</td>\n",
       "      <td>352</td>\n",
       "      <td>469.893437</td>\n",
       "      <td>352</td>\n",
       "    </tr>\n",
       "    <tr>\n",
       "      <th>steady_supporters</th>\n",
       "      <td>-340.863237</td>\n",
       "      <td>797</td>\n",
       "      <td>6.427854</td>\n",
       "      <td>797</td>\n",
       "      <td>2841.617780</td>\n",
       "      <td>797</td>\n",
       "    </tr>\n",
       "  </tbody>\n",
       "</table>\n",
       "</div>\n",
       "      <button class=\"colab-df-convert\" onclick=\"convertToInteractive('df-b872b8d3-63fd-4a51-a8f8-1f7b4b5ab5a2')\"\n",
       "              title=\"Convert this dataframe to an interactive table.\"\n",
       "              style=\"display:none;\">\n",
       "        \n",
       "  <svg xmlns=\"http://www.w3.org/2000/svg\" height=\"24px\"viewBox=\"0 0 24 24\"\n",
       "       width=\"24px\">\n",
       "    <path d=\"M0 0h24v24H0V0z\" fill=\"none\"/>\n",
       "    <path d=\"M18.56 5.44l.94 2.06.94-2.06 2.06-.94-2.06-.94-.94-2.06-.94 2.06-2.06.94zm-11 1L8.5 8.5l.94-2.06 2.06-.94-2.06-.94L8.5 2.5l-.94 2.06-2.06.94zm10 10l.94 2.06.94-2.06 2.06-.94-2.06-.94-.94-2.06-.94 2.06-2.06.94z\"/><path d=\"M17.41 7.96l-1.37-1.37c-.4-.4-.92-.59-1.43-.59-.52 0-1.04.2-1.43.59L10.3 9.45l-7.72 7.72c-.78.78-.78 2.05 0 2.83L4 21.41c.39.39.9.59 1.41.59.51 0 1.02-.2 1.41-.59l7.78-7.78 2.81-2.81c.8-.78.8-2.07 0-2.86zM5.41 20L4 18.59l7.72-7.72 1.47 1.35L5.41 20z\"/>\n",
       "  </svg>\n",
       "      </button>\n",
       "      \n",
       "  <style>\n",
       "    .colab-df-container {\n",
       "      display:flex;\n",
       "      flex-wrap:wrap;\n",
       "      gap: 12px;\n",
       "    }\n",
       "\n",
       "    .colab-df-convert {\n",
       "      background-color: #E8F0FE;\n",
       "      border: none;\n",
       "      border-radius: 50%;\n",
       "      cursor: pointer;\n",
       "      display: none;\n",
       "      fill: #1967D2;\n",
       "      height: 32px;\n",
       "      padding: 0 0 0 0;\n",
       "      width: 32px;\n",
       "    }\n",
       "\n",
       "    .colab-df-convert:hover {\n",
       "      background-color: #E2EBFA;\n",
       "      box-shadow: 0px 1px 2px rgba(60, 64, 67, 0.3), 0px 1px 3px 1px rgba(60, 64, 67, 0.15);\n",
       "      fill: #174EA6;\n",
       "    }\n",
       "\n",
       "    [theme=dark] .colab-df-convert {\n",
       "      background-color: #3B4455;\n",
       "      fill: #D2E3FC;\n",
       "    }\n",
       "\n",
       "    [theme=dark] .colab-df-convert:hover {\n",
       "      background-color: #434B5C;\n",
       "      box-shadow: 0px 1px 3px 1px rgba(0, 0, 0, 0.15);\n",
       "      filter: drop-shadow(0px 1px 2px rgba(0, 0, 0, 0.3));\n",
       "      fill: #FFFFFF;\n",
       "    }\n",
       "  </style>\n",
       "\n",
       "      <script>\n",
       "        const buttonEl =\n",
       "          document.querySelector('#df-b872b8d3-63fd-4a51-a8f8-1f7b4b5ab5a2 button.colab-df-convert');\n",
       "        buttonEl.style.display =\n",
       "          google.colab.kernel.accessAllowed ? 'block' : 'none';\n",
       "\n",
       "        async function convertToInteractive(key) {\n",
       "          const element = document.querySelector('#df-b872b8d3-63fd-4a51-a8f8-1f7b4b5ab5a2');\n",
       "          const dataTable =\n",
       "            await google.colab.kernel.invokeFunction('convertToInteractive',\n",
       "                                                     [key], {});\n",
       "          if (!dataTable) return;\n",
       "\n",
       "          const docLinkHtml = 'Like what you see? Visit the ' +\n",
       "            '<a target=\"_blank\" href=https://colab.research.google.com/notebooks/data_table.ipynb>data table notebook</a>'\n",
       "            + ' to learn more about interactive tables.';\n",
       "          element.innerHTML = '';\n",
       "          dataTable['output_type'] = 'display_data';\n",
       "          await google.colab.output.renderOutput(dataTable, element);\n",
       "          const docLink = document.createElement('div');\n",
       "          docLink.innerHTML = docLinkHtml;\n",
       "          element.appendChild(docLink);\n",
       "        }\n",
       "      </script>\n",
       "    </div>\n",
       "  </div>\n",
       "  "
      ],
      "text/plain": [
       "                          recency        frequency        total_spent      \n",
       "                             mean count       mean count         mean count\n",
       "segment                                                                    \n",
       "brand_ambassadors     -368.340458   655  12.279389   655  6703.140061   655\n",
       "high_risk             -221.205734   593   2.876897   593   993.148366   593\n",
       "inactive_customers    -157.493931  1071   1.101774  1071   415.564764  1071\n",
       "loyalty_potential     -357.570539   482   2.012448   482   690.830021   482\n",
       "new_customers         -366.702128    47   1.000000    47   367.003191    47\n",
       "recently_onboarded    -350.977778    90   1.000000    90   295.330667    90\n",
       "recoverable_customers -242.031746    63   8.380952    63  2790.101429    63\n",
       "require_attention     -322.561497   187   2.326203   187   892.505936   187\n",
       "slipping_away         -321.678977   352   1.161932   352   469.893437   352\n",
       "steady_supporters     -340.863237   797   6.427854   797  2841.617780   797"
      ]
     },
     "execution_count": 35,
     "metadata": {},
     "output_type": "execute_result"
    }
   ],
   "source": [
    "# Group by Segment to see how many customers fall into each category.\n",
    "# Also compute the mean of \"recency\", \"frequency\" and \"total_spent\"\n",
    "rfm[[\"segment\", \"recency\", \"frequency\", \"total_spent\"]].groupby(\"segment\").agg([\"mean\", \"count\"])"
   ]
  },
  {
   "cell_type": "code",
   "execution_count": 36,
   "metadata": {
    "colab": {
     "base_uri": "https://localhost:8080/",
     "height": 237
    },
    "executionInfo": {
     "elapsed": 6,
     "status": "ok",
     "timestamp": 1685562685739,
     "user": {
      "displayName": "Daniel Gareev",
      "userId": "12303687341496405104"
     },
     "user_tz": -180
    },
    "id": "cQy2A_Hf0_TZ",
    "outputId": "872e290f-cc49-4546-99ec-a185f3309a8d"
   },
   "outputs": [
    {
     "data": {
      "text/html": [
       "\n",
       "  <div id=\"df-6c998b63-1673-4f06-953a-634d009ac16d\">\n",
       "    <div class=\"colab-df-container\">\n",
       "      <div>\n",
       "<style scoped>\n",
       "    .dataframe tbody tr th:only-of-type {\n",
       "        vertical-align: middle;\n",
       "    }\n",
       "\n",
       "    .dataframe tbody tr th {\n",
       "        vertical-align: top;\n",
       "    }\n",
       "\n",
       "    .dataframe thead th {\n",
       "        text-align: right;\n",
       "    }\n",
       "</style>\n",
       "<table border=\"1\" class=\"dataframe\">\n",
       "  <thead>\n",
       "    <tr style=\"text-align: right;\">\n",
       "      <th></th>\n",
       "      <th>recency</th>\n",
       "      <th>frequency</th>\n",
       "      <th>total_spent</th>\n",
       "      <th>recency_score</th>\n",
       "      <th>frequency_score</th>\n",
       "      <th>total_spent_score</th>\n",
       "      <th>RFM_SCORE</th>\n",
       "      <th>segment</th>\n",
       "    </tr>\n",
       "    <tr>\n",
       "      <th>CustomerID</th>\n",
       "      <th></th>\n",
       "      <th></th>\n",
       "      <th></th>\n",
       "      <th></th>\n",
       "      <th></th>\n",
       "      <th></th>\n",
       "      <th></th>\n",
       "      <th></th>\n",
       "    </tr>\n",
       "  </thead>\n",
       "  <tbody>\n",
       "    <tr>\n",
       "      <th>12360</th>\n",
       "      <td>-322</td>\n",
       "      <td>3</td>\n",
       "      <td>2662.06</td>\n",
       "      <td>3</td>\n",
       "      <td>3</td>\n",
       "      <td>5</td>\n",
       "      <td>33</td>\n",
       "      <td>require_attention</td>\n",
       "    </tr>\n",
       "    <tr>\n",
       "      <th>12372</th>\n",
       "      <td>-303</td>\n",
       "      <td>3</td>\n",
       "      <td>1298.04</td>\n",
       "      <td>3</td>\n",
       "      <td>3</td>\n",
       "      <td>4</td>\n",
       "      <td>33</td>\n",
       "      <td>require_attention</td>\n",
       "    </tr>\n",
       "    <tr>\n",
       "      <th>12413</th>\n",
       "      <td>-308</td>\n",
       "      <td>3</td>\n",
       "      <td>758.10</td>\n",
       "      <td>3</td>\n",
       "      <td>3</td>\n",
       "      <td>3</td>\n",
       "      <td>33</td>\n",
       "      <td>require_attention</td>\n",
       "    </tr>\n",
       "    <tr>\n",
       "      <th>12456</th>\n",
       "      <td>-330</td>\n",
       "      <td>3</td>\n",
       "      <td>3181.04</td>\n",
       "      <td>3</td>\n",
       "      <td>3</td>\n",
       "      <td>5</td>\n",
       "      <td>33</td>\n",
       "      <td>require_attention</td>\n",
       "    </tr>\n",
       "    <tr>\n",
       "      <th>12536</th>\n",
       "      <td>-331</td>\n",
       "      <td>3</td>\n",
       "      <td>12601.83</td>\n",
       "      <td>3</td>\n",
       "      <td>3</td>\n",
       "      <td>5</td>\n",
       "      <td>33</td>\n",
       "      <td>require_attention</td>\n",
       "    </tr>\n",
       "  </tbody>\n",
       "</table>\n",
       "</div>\n",
       "      <button class=\"colab-df-convert\" onclick=\"convertToInteractive('df-6c998b63-1673-4f06-953a-634d009ac16d')\"\n",
       "              title=\"Convert this dataframe to an interactive table.\"\n",
       "              style=\"display:none;\">\n",
       "        \n",
       "  <svg xmlns=\"http://www.w3.org/2000/svg\" height=\"24px\"viewBox=\"0 0 24 24\"\n",
       "       width=\"24px\">\n",
       "    <path d=\"M0 0h24v24H0V0z\" fill=\"none\"/>\n",
       "    <path d=\"M18.56 5.44l.94 2.06.94-2.06 2.06-.94-2.06-.94-.94-2.06-.94 2.06-2.06.94zm-11 1L8.5 8.5l.94-2.06 2.06-.94-2.06-.94L8.5 2.5l-.94 2.06-2.06.94zm10 10l.94 2.06.94-2.06 2.06-.94-2.06-.94-.94-2.06-.94 2.06-2.06.94z\"/><path d=\"M17.41 7.96l-1.37-1.37c-.4-.4-.92-.59-1.43-.59-.52 0-1.04.2-1.43.59L10.3 9.45l-7.72 7.72c-.78.78-.78 2.05 0 2.83L4 21.41c.39.39.9.59 1.41.59.51 0 1.02-.2 1.41-.59l7.78-7.78 2.81-2.81c.8-.78.8-2.07 0-2.86zM5.41 20L4 18.59l7.72-7.72 1.47 1.35L5.41 20z\"/>\n",
       "  </svg>\n",
       "      </button>\n",
       "      \n",
       "  <style>\n",
       "    .colab-df-container {\n",
       "      display:flex;\n",
       "      flex-wrap:wrap;\n",
       "      gap: 12px;\n",
       "    }\n",
       "\n",
       "    .colab-df-convert {\n",
       "      background-color: #E8F0FE;\n",
       "      border: none;\n",
       "      border-radius: 50%;\n",
       "      cursor: pointer;\n",
       "      display: none;\n",
       "      fill: #1967D2;\n",
       "      height: 32px;\n",
       "      padding: 0 0 0 0;\n",
       "      width: 32px;\n",
       "    }\n",
       "\n",
       "    .colab-df-convert:hover {\n",
       "      background-color: #E2EBFA;\n",
       "      box-shadow: 0px 1px 2px rgba(60, 64, 67, 0.3), 0px 1px 3px 1px rgba(60, 64, 67, 0.15);\n",
       "      fill: #174EA6;\n",
       "    }\n",
       "\n",
       "    [theme=dark] .colab-df-convert {\n",
       "      background-color: #3B4455;\n",
       "      fill: #D2E3FC;\n",
       "    }\n",
       "\n",
       "    [theme=dark] .colab-df-convert:hover {\n",
       "      background-color: #434B5C;\n",
       "      box-shadow: 0px 1px 3px 1px rgba(0, 0, 0, 0.15);\n",
       "      filter: drop-shadow(0px 1px 2px rgba(0, 0, 0, 0.3));\n",
       "      fill: #FFFFFF;\n",
       "    }\n",
       "  </style>\n",
       "\n",
       "      <script>\n",
       "        const buttonEl =\n",
       "          document.querySelector('#df-6c998b63-1673-4f06-953a-634d009ac16d button.colab-df-convert');\n",
       "        buttonEl.style.display =\n",
       "          google.colab.kernel.accessAllowed ? 'block' : 'none';\n",
       "\n",
       "        async function convertToInteractive(key) {\n",
       "          const element = document.querySelector('#df-6c998b63-1673-4f06-953a-634d009ac16d');\n",
       "          const dataTable =\n",
       "            await google.colab.kernel.invokeFunction('convertToInteractive',\n",
       "                                                     [key], {});\n",
       "          if (!dataTable) return;\n",
       "\n",
       "          const docLinkHtml = 'Like what you see? Visit the ' +\n",
       "            '<a target=\"_blank\" href=https://colab.research.google.com/notebooks/data_table.ipynb>data table notebook</a>'\n",
       "            + ' to learn more about interactive tables.';\n",
       "          element.innerHTML = '';\n",
       "          dataTable['output_type'] = 'display_data';\n",
       "          await google.colab.output.renderOutput(dataTable, element);\n",
       "          const docLink = document.createElement('div');\n",
       "          docLink.innerHTML = docLinkHtml;\n",
       "          element.appendChild(docLink);\n",
       "        }\n",
       "      </script>\n",
       "    </div>\n",
       "  </div>\n",
       "  "
      ],
      "text/plain": [
       "            recency  frequency  total_spent recency_score frequency_score  \\\n",
       "CustomerID                                                                  \n",
       "12360          -322          3      2662.06             3               3   \n",
       "12372          -303          3      1298.04             3               3   \n",
       "12413          -308          3       758.10             3               3   \n",
       "12456          -330          3      3181.04             3               3   \n",
       "12536          -331          3     12601.83             3               3   \n",
       "\n",
       "           total_spent_score RFM_SCORE            segment  \n",
       "CustomerID                                                 \n",
       "12360                      5        33  require_attention  \n",
       "12372                      4        33  require_attention  \n",
       "12413                      3        33  require_attention  \n",
       "12456                      5        33  require_attention  \n",
       "12536                      5        33  require_attention  "
      ]
     },
     "execution_count": 36,
     "metadata": {},
     "output_type": "execute_result"
    }
   ],
   "source": [
    "# Find customers that fall into the category \"need_attention\"\n",
    "rfm[rfm[\"segment\"] == \"require_attention\"].head()"
   ]
  },
  {
   "cell_type": "code",
   "execution_count": 37,
   "metadata": {
    "colab": {
     "base_uri": "https://localhost:8080/",
     "height": 206
    },
    "executionInfo": {
     "elapsed": 6,
     "status": "ok",
     "timestamp": 1685562685739,
     "user": {
      "displayName": "Daniel Gareev",
      "userId": "12303687341496405104"
     },
     "user_tz": -180
    },
    "id": "Y74n1ily0_Ta",
    "outputId": "74d83d9a-f351-41bf-fe63-c2cf03a7aec8"
   },
   "outputs": [
    {
     "data": {
      "text/html": [
       "\n",
       "  <div id=\"df-53dddcc4-7a4e-4d41-a8dc-a40685e24878\">\n",
       "    <div class=\"colab-df-container\">\n",
       "      <div>\n",
       "<style scoped>\n",
       "    .dataframe tbody tr th:only-of-type {\n",
       "        vertical-align: middle;\n",
       "    }\n",
       "\n",
       "    .dataframe tbody tr th {\n",
       "        vertical-align: top;\n",
       "    }\n",
       "\n",
       "    .dataframe thead th {\n",
       "        text-align: right;\n",
       "    }\n",
       "</style>\n",
       "<table border=\"1\" class=\"dataframe\">\n",
       "  <thead>\n",
       "    <tr style=\"text-align: right;\">\n",
       "      <th></th>\n",
       "      <th>new_customer_id</th>\n",
       "    </tr>\n",
       "  </thead>\n",
       "  <tbody>\n",
       "    <tr>\n",
       "      <th>0</th>\n",
       "      <td>12360</td>\n",
       "    </tr>\n",
       "    <tr>\n",
       "      <th>1</th>\n",
       "      <td>12372</td>\n",
       "    </tr>\n",
       "    <tr>\n",
       "      <th>2</th>\n",
       "      <td>12413</td>\n",
       "    </tr>\n",
       "    <tr>\n",
       "      <th>3</th>\n",
       "      <td>12456</td>\n",
       "    </tr>\n",
       "    <tr>\n",
       "      <th>4</th>\n",
       "      <td>12536</td>\n",
       "    </tr>\n",
       "  </tbody>\n",
       "</table>\n",
       "</div>\n",
       "      <button class=\"colab-df-convert\" onclick=\"convertToInteractive('df-53dddcc4-7a4e-4d41-a8dc-a40685e24878')\"\n",
       "              title=\"Convert this dataframe to an interactive table.\"\n",
       "              style=\"display:none;\">\n",
       "        \n",
       "  <svg xmlns=\"http://www.w3.org/2000/svg\" height=\"24px\"viewBox=\"0 0 24 24\"\n",
       "       width=\"24px\">\n",
       "    <path d=\"M0 0h24v24H0V0z\" fill=\"none\"/>\n",
       "    <path d=\"M18.56 5.44l.94 2.06.94-2.06 2.06-.94-2.06-.94-.94-2.06-.94 2.06-2.06.94zm-11 1L8.5 8.5l.94-2.06 2.06-.94-2.06-.94L8.5 2.5l-.94 2.06-2.06.94zm10 10l.94 2.06.94-2.06 2.06-.94-2.06-.94-.94-2.06-.94 2.06-2.06.94z\"/><path d=\"M17.41 7.96l-1.37-1.37c-.4-.4-.92-.59-1.43-.59-.52 0-1.04.2-1.43.59L10.3 9.45l-7.72 7.72c-.78.78-.78 2.05 0 2.83L4 21.41c.39.39.9.59 1.41.59.51 0 1.02-.2 1.41-.59l7.78-7.78 2.81-2.81c.8-.78.8-2.07 0-2.86zM5.41 20L4 18.59l7.72-7.72 1.47 1.35L5.41 20z\"/>\n",
       "  </svg>\n",
       "      </button>\n",
       "      \n",
       "  <style>\n",
       "    .colab-df-container {\n",
       "      display:flex;\n",
       "      flex-wrap:wrap;\n",
       "      gap: 12px;\n",
       "    }\n",
       "\n",
       "    .colab-df-convert {\n",
       "      background-color: #E8F0FE;\n",
       "      border: none;\n",
       "      border-radius: 50%;\n",
       "      cursor: pointer;\n",
       "      display: none;\n",
       "      fill: #1967D2;\n",
       "      height: 32px;\n",
       "      padding: 0 0 0 0;\n",
       "      width: 32px;\n",
       "    }\n",
       "\n",
       "    .colab-df-convert:hover {\n",
       "      background-color: #E2EBFA;\n",
       "      box-shadow: 0px 1px 2px rgba(60, 64, 67, 0.3), 0px 1px 3px 1px rgba(60, 64, 67, 0.15);\n",
       "      fill: #174EA6;\n",
       "    }\n",
       "\n",
       "    [theme=dark] .colab-df-convert {\n",
       "      background-color: #3B4455;\n",
       "      fill: #D2E3FC;\n",
       "    }\n",
       "\n",
       "    [theme=dark] .colab-df-convert:hover {\n",
       "      background-color: #434B5C;\n",
       "      box-shadow: 0px 1px 3px 1px rgba(0, 0, 0, 0.15);\n",
       "      filter: drop-shadow(0px 1px 2px rgba(0, 0, 0, 0.3));\n",
       "      fill: #FFFFFF;\n",
       "    }\n",
       "  </style>\n",
       "\n",
       "      <script>\n",
       "        const buttonEl =\n",
       "          document.querySelector('#df-53dddcc4-7a4e-4d41-a8dc-a40685e24878 button.colab-df-convert');\n",
       "        buttonEl.style.display =\n",
       "          google.colab.kernel.accessAllowed ? 'block' : 'none';\n",
       "\n",
       "        async function convertToInteractive(key) {\n",
       "          const element = document.querySelector('#df-53dddcc4-7a4e-4d41-a8dc-a40685e24878');\n",
       "          const dataTable =\n",
       "            await google.colab.kernel.invokeFunction('convertToInteractive',\n",
       "                                                     [key], {});\n",
       "          if (!dataTable) return;\n",
       "\n",
       "          const docLinkHtml = 'Like what you see? Visit the ' +\n",
       "            '<a target=\"_blank\" href=https://colab.research.google.com/notebooks/data_table.ipynb>data table notebook</a>'\n",
       "            + ' to learn more about interactive tables.';\n",
       "          element.innerHTML = '';\n",
       "          dataTable['output_type'] = 'display_data';\n",
       "          await google.colab.output.renderOutput(dataTable, element);\n",
       "          const docLink = document.createElement('div');\n",
       "          docLink.innerHTML = docLinkHtml;\n",
       "          element.appendChild(docLink);\n",
       "        }\n",
       "      </script>\n",
       "    </div>\n",
       "  </div>\n",
       "  "
      ],
      "text/plain": [
       "   new_customer_id\n",
       "0            12360\n",
       "1            12372\n",
       "2            12413\n",
       "3            12456\n",
       "4            12536"
      ]
     },
     "execution_count": 37,
     "metadata": {},
     "output_type": "execute_result"
    }
   ],
   "source": [
    "# Create new dataframe that only considers the customers that fall into the segment \"require_attention\"\n",
    "new_df = pd.DataFrame()\n",
    "new_df[\"new_customer_id\"] = rfm[rfm[\"segment\"] == \"require_attention\"].index\n",
    "new_df.head()"
   ]
  },
  {
   "cell_type": "code",
   "execution_count": 38,
   "metadata": {
    "colab": {
     "base_uri": "https://localhost:8080/",
     "height": 237
    },
    "executionInfo": {
     "elapsed": 6,
     "status": "ok",
     "timestamp": 1685562685739,
     "user": {
      "displayName": "Daniel Gareev",
      "userId": "12303687341496405104"
     },
     "user_tz": -180
    },
    "id": "qVpdgRCd0_Ta",
    "outputId": "ae8b61fd-e5fd-4cb1-ecdf-e85c1d207b00"
   },
   "outputs": [
    {
     "data": {
      "text/html": [
       "\n",
       "  <div id=\"df-ac959ce2-f356-474a-815a-4149ba67228b\">\n",
       "    <div class=\"colab-df-container\">\n",
       "      <div>\n",
       "<style scoped>\n",
       "    .dataframe tbody tr th:only-of-type {\n",
       "        vertical-align: middle;\n",
       "    }\n",
       "\n",
       "    .dataframe tbody tr th {\n",
       "        vertical-align: top;\n",
       "    }\n",
       "\n",
       "    .dataframe thead th {\n",
       "        text-align: right;\n",
       "    }\n",
       "</style>\n",
       "<table border=\"1\" class=\"dataframe\">\n",
       "  <thead>\n",
       "    <tr style=\"text-align: right;\">\n",
       "      <th></th>\n",
       "      <th>recency</th>\n",
       "      <th>frequency</th>\n",
       "      <th>total_spent</th>\n",
       "      <th>recency_score</th>\n",
       "      <th>frequency_score</th>\n",
       "      <th>total_spent_score</th>\n",
       "      <th>RFM_SCORE</th>\n",
       "      <th>segment</th>\n",
       "    </tr>\n",
       "    <tr>\n",
       "      <th>CustomerID</th>\n",
       "      <th></th>\n",
       "      <th></th>\n",
       "      <th></th>\n",
       "      <th></th>\n",
       "      <th></th>\n",
       "      <th></th>\n",
       "      <th></th>\n",
       "      <th></th>\n",
       "    </tr>\n",
       "  </thead>\n",
       "  <tbody>\n",
       "    <tr>\n",
       "      <th>12347</th>\n",
       "      <td>-372</td>\n",
       "      <td>7</td>\n",
       "      <td>4310.00</td>\n",
       "      <td>5</td>\n",
       "      <td>5</td>\n",
       "      <td>5</td>\n",
       "      <td>55</td>\n",
       "      <td>brand_ambassadors</td>\n",
       "    </tr>\n",
       "    <tr>\n",
       "      <th>12348</th>\n",
       "      <td>-299</td>\n",
       "      <td>4</td>\n",
       "      <td>1797.24</td>\n",
       "      <td>2</td>\n",
       "      <td>4</td>\n",
       "      <td>4</td>\n",
       "      <td>24</td>\n",
       "      <td>high_risk</td>\n",
       "    </tr>\n",
       "    <tr>\n",
       "      <th>12349</th>\n",
       "      <td>-356</td>\n",
       "      <td>1</td>\n",
       "      <td>1757.55</td>\n",
       "      <td>4</td>\n",
       "      <td>1</td>\n",
       "      <td>4</td>\n",
       "      <td>41</td>\n",
       "      <td>recently_onboarded</td>\n",
       "    </tr>\n",
       "    <tr>\n",
       "      <th>12350</th>\n",
       "      <td>-64</td>\n",
       "      <td>1</td>\n",
       "      <td>334.40</td>\n",
       "      <td>1</td>\n",
       "      <td>1</td>\n",
       "      <td>2</td>\n",
       "      <td>11</td>\n",
       "      <td>inactive_customers</td>\n",
       "    </tr>\n",
       "    <tr>\n",
       "      <th>12352</th>\n",
       "      <td>-338</td>\n",
       "      <td>8</td>\n",
       "      <td>2506.04</td>\n",
       "      <td>3</td>\n",
       "      <td>5</td>\n",
       "      <td>5</td>\n",
       "      <td>35</td>\n",
       "      <td>steady_supporters</td>\n",
       "    </tr>\n",
       "  </tbody>\n",
       "</table>\n",
       "</div>\n",
       "      <button class=\"colab-df-convert\" onclick=\"convertToInteractive('df-ac959ce2-f356-474a-815a-4149ba67228b')\"\n",
       "              title=\"Convert this dataframe to an interactive table.\"\n",
       "              style=\"display:none;\">\n",
       "        \n",
       "  <svg xmlns=\"http://www.w3.org/2000/svg\" height=\"24px\"viewBox=\"0 0 24 24\"\n",
       "       width=\"24px\">\n",
       "    <path d=\"M0 0h24v24H0V0z\" fill=\"none\"/>\n",
       "    <path d=\"M18.56 5.44l.94 2.06.94-2.06 2.06-.94-2.06-.94-.94-2.06-.94 2.06-2.06.94zm-11 1L8.5 8.5l.94-2.06 2.06-.94-2.06-.94L8.5 2.5l-.94 2.06-2.06.94zm10 10l.94 2.06.94-2.06 2.06-.94-2.06-.94-.94-2.06-.94 2.06-2.06.94z\"/><path d=\"M17.41 7.96l-1.37-1.37c-.4-.4-.92-.59-1.43-.59-.52 0-1.04.2-1.43.59L10.3 9.45l-7.72 7.72c-.78.78-.78 2.05 0 2.83L4 21.41c.39.39.9.59 1.41.59.51 0 1.02-.2 1.41-.59l7.78-7.78 2.81-2.81c.8-.78.8-2.07 0-2.86zM5.41 20L4 18.59l7.72-7.72 1.47 1.35L5.41 20z\"/>\n",
       "  </svg>\n",
       "      </button>\n",
       "      \n",
       "  <style>\n",
       "    .colab-df-container {\n",
       "      display:flex;\n",
       "      flex-wrap:wrap;\n",
       "      gap: 12px;\n",
       "    }\n",
       "\n",
       "    .colab-df-convert {\n",
       "      background-color: #E8F0FE;\n",
       "      border: none;\n",
       "      border-radius: 50%;\n",
       "      cursor: pointer;\n",
       "      display: none;\n",
       "      fill: #1967D2;\n",
       "      height: 32px;\n",
       "      padding: 0 0 0 0;\n",
       "      width: 32px;\n",
       "    }\n",
       "\n",
       "    .colab-df-convert:hover {\n",
       "      background-color: #E2EBFA;\n",
       "      box-shadow: 0px 1px 2px rgba(60, 64, 67, 0.3), 0px 1px 3px 1px rgba(60, 64, 67, 0.15);\n",
       "      fill: #174EA6;\n",
       "    }\n",
       "\n",
       "    [theme=dark] .colab-df-convert {\n",
       "      background-color: #3B4455;\n",
       "      fill: #D2E3FC;\n",
       "    }\n",
       "\n",
       "    [theme=dark] .colab-df-convert:hover {\n",
       "      background-color: #434B5C;\n",
       "      box-shadow: 0px 1px 3px 1px rgba(0, 0, 0, 0.15);\n",
       "      filter: drop-shadow(0px 1px 2px rgba(0, 0, 0, 0.3));\n",
       "      fill: #FFFFFF;\n",
       "    }\n",
       "  </style>\n",
       "\n",
       "      <script>\n",
       "        const buttonEl =\n",
       "          document.querySelector('#df-ac959ce2-f356-474a-815a-4149ba67228b button.colab-df-convert');\n",
       "        buttonEl.style.display =\n",
       "          google.colab.kernel.accessAllowed ? 'block' : 'none';\n",
       "\n",
       "        async function convertToInteractive(key) {\n",
       "          const element = document.querySelector('#df-ac959ce2-f356-474a-815a-4149ba67228b');\n",
       "          const dataTable =\n",
       "            await google.colab.kernel.invokeFunction('convertToInteractive',\n",
       "                                                     [key], {});\n",
       "          if (!dataTable) return;\n",
       "\n",
       "          const docLinkHtml = 'Like what you see? Visit the ' +\n",
       "            '<a target=\"_blank\" href=https://colab.research.google.com/notebooks/data_table.ipynb>data table notebook</a>'\n",
       "            + ' to learn more about interactive tables.';\n",
       "          element.innerHTML = '';\n",
       "          dataTable['output_type'] = 'display_data';\n",
       "          await google.colab.output.renderOutput(dataTable, element);\n",
       "          const docLink = document.createElement('div');\n",
       "          docLink.innerHTML = docLinkHtml;\n",
       "          element.appendChild(docLink);\n",
       "        }\n",
       "      </script>\n",
       "    </div>\n",
       "  </div>\n",
       "  "
      ],
      "text/plain": [
       "            recency  frequency  total_spent recency_score frequency_score  \\\n",
       "CustomerID                                                                  \n",
       "12347          -372          7      4310.00             5               5   \n",
       "12348          -299          4      1797.24             2               4   \n",
       "12349          -356          1      1757.55             4               1   \n",
       "12350           -64          1       334.40             1               1   \n",
       "12352          -338          8      2506.04             3               5   \n",
       "\n",
       "           total_spent_score RFM_SCORE             segment  \n",
       "CustomerID                                                  \n",
       "12347                      5        55   brand_ambassadors  \n",
       "12348                      4        24           high_risk  \n",
       "12349                      4        41  recently_onboarded  \n",
       "12350                      2        11  inactive_customers  \n",
       "12352                      5        35   steady_supporters  "
      ]
     },
     "execution_count": 38,
     "metadata": {},
     "output_type": "execute_result"
    }
   ],
   "source": [
    "rfm.head()"
   ]
  },
  {
   "cell_type": "markdown",
   "metadata": {
    "id": "c1akvaxpNfSR"
   },
   "source": [
    "Visualization"
   ]
  },
  {
   "cell_type": "code",
   "execution_count": 39,
   "metadata": {
    "executionInfo": {
     "elapsed": 6,
     "status": "ok",
     "timestamp": 1685562685739,
     "user": {
      "displayName": "Daniel Gareev",
      "userId": "12303687341496405104"
     },
     "user_tz": -180
    },
    "id": "rNdr1hTzNfSS"
   },
   "outputs": [],
   "source": [
    "# Merge df_customer and rfm on CustomerID in a new dataframe called df_customer_rfm\n",
    "df_customer_rfm = pd.merge(df_customer, rfm, left_on=\"CustomerID\", right_on=\"CustomerID\")\n",
    "segmented_df = df_customer_rfm.groupby('segment')\n",
    "custom_order = ['inactive_customer', 'high_risk', 'recoverable_customers', 'slipping_away',\n",
    "                'require_attention', 'steady_supporters', 'recently_onboarded',\n",
    "                'new_customers', 'loyalty_potential', 'brand_ambassadors']\n"
   ]
  },
  {
   "cell_type": "code",
   "execution_count": 41,
   "metadata": {
    "colab": {
     "base_uri": "https://localhost:8080/"
    },
    "executionInfo": {
     "elapsed": 1,
     "status": "ok",
     "timestamp": 1685562705087,
     "user": {
      "displayName": "Daniel Gareev",
      "userId": "12303687341496405104"
     },
     "user_tz": -180
    },
    "id": "hmDAdpALXb8R",
    "outputId": "f7a4fd34-0502-465c-dd5c-6493c3ebd3c0"
   },
   "outputs": [
    {
     "data": {
      "text/plain": [
       "segment\n",
       "inactive_customer              NaN\n",
       "high_risk                45.608833\n",
       "recoverable_customers     4.620203\n",
       "slipping_away             6.098503\n",
       "require_attention         4.436304\n",
       "steady_supporters         4.563556\n",
       "recently_onboarded        2.880484\n",
       "new_customers             1.808346\n",
       "loyalty_potential         3.808375\n",
       "brand_ambassadors         3.332444\n",
       "Name: AveragePrice, dtype: float64"
      ]
     },
     "execution_count": 41,
     "metadata": {},
     "output_type": "execute_result"
    }
   ],
   "source": [
    "average_price"
   ]
  },
  {
   "cell_type": "code",
   "execution_count": 40,
   "metadata": {
    "colab": {
     "base_uri": "https://localhost:8080/",
     "height": 620
    },
    "executionInfo": {
     "elapsed": 643,
     "status": "ok",
     "timestamp": 1685562699485,
     "user": {
      "displayName": "Daniel Gareev",
      "userId": "12303687341496405104"
     },
     "user_tz": -180
    },
    "id": "wpc3vFU1NfSS",
    "outputId": "b8242ed1-d03d-4a6f-afcb-f2b798df13ca"
   },
   "outputs": [
    {
     "data": {
      "image/png": "[encoded data removed]",
      "text/plain": [
       "<Figure size 640x480 with 1 Axes>"
      ]
     },
     "metadata": {},
     "output_type": "display_data"
    }
   ],
   "source": [
    "#  AVERAGE UNIT PRICE BY RFM SEGMENT\n",
    "average_price = segmented_df['AveragePrice'].mean()\n",
    "average_price = average_price.reindex(custom_order)\n",
    "fig, ax = plt.subplots()\n",
    "\n",
    "ax.bar(average_price.index, average_price.values, label='Average Price')\n",
    "\n",
    "# Set the labels and title\n",
    "ax.set_xlabel('RFM Segment')\n",
    "ax.set_ylabel('Value')\n",
    "ax.set_title('Average Unit Price by RFM Segment')\n",
    "ax.legend()\n",
    "plt.xticks(rotation=90)\n",
    "plt.show()\n"
   ]
  },
  {
   "cell_type": "code",
   "execution_count": 42,
   "metadata": {
    "colab": {
     "base_uri": "https://localhost:8080/",
     "height": 620
    },
    "executionInfo": {
     "elapsed": 419,
     "status": "ok",
     "timestamp": 1685562740234,
     "user": {
      "displayName": "Daniel Gareev",
      "userId": "12303687341496405104"
     },
     "user_tz": -180
    },
    "id": "ggJ-dbmnNfST",
    "outputId": "9b3f79f3-1230-407e-9cb9-e161efd3d161"
   },
   "outputs": [
    {
     "data": {
      "image/png": "[encoded data removed]",
      "text/plain": [
       "<Figure size 640x480 with 1 Axes>"
      ]
     },
     "metadata": {},
     "output_type": "display_data"
    }
   ],
   "source": [
    "#  AVERAGE TOTAL SPENT BY RFM SEGMENT\n",
    "average_total_spent = segmented_df['TotalSpent'].mean()\n",
    "average_total_spent = average_total_spent.reindex(custom_order)\n",
    "fig, ax = plt.subplots()\n",
    "ax.bar(average_total_spent.index, average_total_spent.values, label='Average Total Spent')\n",
    "\n",
    "# Set the labels and title\n",
    "ax.set_xlabel('RFM Segment')\n",
    "ax.set_ylabel('Value')\n",
    "ax.set_title('Average Total Spent RFM Segment')\n",
    "ax.legend()\n",
    "plt.xticks(rotation=90)\n",
    "plt.show()\n"
   ]
  },
  {
   "cell_type": "code",
   "execution_count": null,
   "metadata": {
    "id": "191s1HW1NfSS",
    "outputId": "931f0f1b-d8f3-433b-c2d0-138d0693714c"
   },
   "outputs": [
    {
     "data": {
      "image/png": "[encoded data removed]",
      "text/plain": [
       "<Figure size 432x288 with 1 Axes>"
      ]
     },
     "metadata": {
      "needs_background": "light"
     },
     "output_type": "display_data"
    }
   ],
   "source": [
    "#  AVERAGE NUMBER OF UNIQUE PRODUCTS BY RFM SEGMENT\n",
    "num_unique_products = segmented_df['UniqueProducts'].mean()\n",
    "num_unique_products = num_unique_products.reindex(custom_order)\n",
    "fig, ax = plt.subplots()\n",
    "ax.bar(num_unique_products.index, num_unique_products.values, label='Average Unique Products')\n",
    "\n",
    "# Set the labels and title\n",
    "ax.set_xlabel('RFM Segment')\n",
    "ax.set_ylabel('Value')\n",
    "ax.set_title('Average Unique Products by RFM Segment')\n",
    "ax.legend()\n",
    "plt.xticks(rotation=90)\n",
    "plt.show()\n"
   ]
  },
  {
   "cell_type": "code",
   "execution_count": null,
   "metadata": {
    "id": "yNRLlYkoNfSa",
    "outputId": "730e51b0-48f5-4f94-8f64-1fea8cd29527"
   },
   "outputs": [
    {
     "data": {
      "image/png": "[encoded data removed]",
      "text/plain": [
       "<Figure size 432x288 with 1 Axes>"
      ]
     },
     "metadata": {
      "needs_background": "light"
     },
     "output_type": "display_data"
    }
   ],
   "source": [
    "import matplotlib.pyplot as plt\n",
    "import matplotlib.image as mpimg\n",
    "\n",
    "# Assuming your customer dataframe is named 'customer_df'\n",
    "# and the RFM score is stored in the 'RFM_SCORE' column\n",
    "\n",
    "# Group customers by RFM score\n",
    "grouped_df = rfm.groupby('RFM_SCORE')\n",
    "customer_counts = grouped_df.size()\n",
    "\n",
    "# Create a 2D map with x and y axes representing the RFM score ranges (1 to 5)\n",
    "x = [int(score[0]) for score in customer_counts.index]\n",
    "y = [int(score[1]) for score in customer_counts.index]\n",
    "x_shifted = [coord + 0.5 for coord in x]\n",
    "y_shifted = [coord + 0.5 for coord in y]\n",
    "\n",
    "# Plot the scatter points on the map\n",
    "plt.scatter(x_shifted, y_shifted, s=customer_counts.values, alpha=0.7)\n",
    "\n",
    "# Add labels for each point indicating the number of customers in that segment\n",
    "for i, count in enumerate(customer_counts.values):\n",
    "    plt.annotate(str(count), (x_shifted[i], y_shifted[i]), xytext=(5, 5), textcoords='offset points')\n",
    "\n",
    "img = mpimg.imread('./map_cropped.png')\n",
    "plt.imshow(img, extent=[1, 6, 1, 6], aspect='auto', alpha=0.6)\n",
    "\n",
    "# Set the shifted x and y axis tick positions and labels\n",
    "plt.xticks([i + 0.5 for i in range(1, 6)], range(1, 6))\n",
    "plt.yticks([i + 0.5 for i in range(1, 6)], range(1, 6))\n",
    "\n",
    "# Set the x and y axis labels\n",
    "plt.xlabel('Recency')\n",
    "plt.ylabel('Frequency')\n",
    "\n",
    "# Set the plot title\n",
    "plt.title('Customers by RFM Segments')\n",
    "\n",
    "# Display the plot\n",
    "plt.show()\n"
   ]
  },
  {
   "cell_type": "markdown",
   "metadata": {
    "id": "Wc4ZoDnboLhx"
   },
   "source": [
    "## Customer Segmentation using RFM (Recency, Frequency, Monetary) THIS PART IS INCOMPLETE "
   ]
  },
  {
   "cell_type": "code",
   "execution_count": null,
   "metadata": {
    "id": "K8ZtuAYhoLhx"
   },
   "outputs": [],
   "source": [
    "new_df = df_.copy()\n",
    "\n",
    "new_df[new_df[\"InvoiceNo\"].str.contains(\"C\", na=False)]\n",
    "\n",
    "new_df = new_df[~new_df[\"InvoiceNo\"].str.contains(\"C\", na=False)]\n",
    "\n",
    "# Find max InvoiceDate\n",
    "new_df[\"InvoiceDate\"].max()\n",
    "\n",
    "# Starting Date for RFM Analysis\n",
    "first_analysis_date = new_df[\"InvoiceDate\"].min()\n",
    "\n",
    "# Create column TotalPrice\n",
    "new_df[\"TotalPrice\"] = new_df[\"Quantity\"] * new_df[\"UnitPrice\"]\n",
    "\n",
    "# Group Data by CustomerID\n",
    "# Calculate days between first analysis date and last invoice date\n",
    "# Count unique invoices\n",
    "# Get Total Price for each customer\n",
    "new_rfm = new_df.groupby('CustomerID').agg({'InvoiceDate': lambda date: (first_analysis_date - date.max()).days,\n",
    "                                     'InvoiceNo': lambda num: num.nunique(),\n",
    "                                     'TotalPrice': lambda TotalPrice: TotalPrice.sum()})\n",
    "new_rfm"
   ]
  },
  {
   "cell_type": "code",
   "execution_count": null,
   "metadata": {
    "id": "ImXOlbAloLhx"
   },
   "outputs": [],
   "source": [
    "# Rename InvoiceDate, InvoiceNo, TotalPrice to recency, frequency, monetary\n",
    "new_rfm.columns = ['recency', 'frequency', 'monetary']\n",
    "new_rfm = new_rfm[new_rfm[\"monetary\"] > 0]\n",
    "\n",
    "# Create scores based on RFM metrics\n",
    "\n",
    "# Recenency score is inverted, because lower recency (negative numbers) -> better\n",
    "new_rfm[\"recency_score\"] = pd.qcut(new_rfm['recency'], 5, labels=[5,4,3,2,1])\n",
    "\n",
    "# Frequency score - Higher = Better\n",
    "new_rfm[\"frequency_score\"] = pd.qcut(new_rfm['frequency'].rank(method=\"first\"), 5, labels=[1, 2, 3, 4, 5])\n",
    "\n",
    "# Total Spent score - Higher = Better\n",
    "new_rfm[\"monetary_score\"] = pd.qcut(new_rfm['monetary'], 5, labels=[1,2,3,4,5])\n",
    "\n",
    "# Create two-digit RFM_Score (not considering total_spent value)\n",
    "new_rfm[\"RFM_SCORE\"] = (new_rfm['recency_score'].astype(str) +\n",
    "                   new_rfm['frequency_score'].astype(str) +\n",
    "                   new_rfm['monetary_score'].astype(str))\n",
    "\n",
    "\n",
    "new_seg_map = {\n",
    "    r'[1-2]1[1-2]': 'low_frequency_low_monetary',\n",
    "    r'[1-2]1[3-5]': 'low_frequency_high_monetary',\n",
    "    r'[3-5]1[1-2]': 'high_frequency_low_monetary',\n",
    "    r'[3-5]1[3-5]': 'high_frequency_high_monetary',\n",
    "    r'[1-2]2[1-2]': 'low_frequency_low_monetary',\n",
    "    r'[1-2]2[3-5]': 'low_frequency_high_monetary',\n",
    "    r'[3-5]2[1-2]': 'high_frequency_low_monetary',\n",
    "    r'[3-5]2[3-5]': 'high_frequency_high_monetary',\n",
    "    r'[1-2]3[1-2]': 'low_frequency_low_monetary',\n",
    "    r'[1-2]3[3-5]': 'low_frequency_high_monetary',\n",
    "    r'[3-5]3[1-2]': 'high_frequency_low_monetary',\n",
    "    r'[3-5]3[3-5]': 'high_frequency_high_monetary',\n",
    "    r'[1-2]4[1-2]': 'low_frequency_low_monetary',\n",
    "    r'[1-2]4[3-5]': 'low_frequency_high_monetary',\n",
    "    r'[3-5]4[1-2]': 'high_frequency_low_monetary',\n",
    "    r'[3-5]4[3-5]': 'high_frequency_high_monetary',\n",
    "    r'[1-2]5[1-2]': 'low_frequency_low_monetary',\n",
    "    r'[1-2]5[3-5]': 'low_frequency_high_monetary',\n",
    "    r'[3-5]5[1-2]': 'high_frequency_low_monetary',\n",
    "    r'[3-5]5[3-5]': 'high_frequency_high_monetary',\n",
    "}\n",
    "\n",
    "# Each RFM_Score value is matched against the keys in seg_map. When a match is found, the RFM_SCORE value is replaced\n",
    "# by the value found in seg_map. This classifies each customer into one of the segments in seg_map\n",
    "new_rfm['segment'] = new_rfm['RFM_SCORE'].replace(new_seg_map, regex=True)\n",
    "\n",
    "new_rfm.head()"
   ]
  },
  {
   "cell_type": "code",
   "execution_count": null,
   "metadata": {
    "id": "mmZVGWBfoLhx"
   },
   "outputs": [],
   "source": [
    "# Find customers that fall into the category \"brand_ambassadors_high_monetary\"\n",
    "new_rfm[new_rfm[\"segment\"] == \"brand_ambassadors_high_monetary\"].head()"
   ]
  }
 ],
 "metadata": {
  "colab": {
   "provenance": []
  },
  "kernelspec": {
   "display_name": "Python 3 (ipykernel)",
   "language": "python",
   "name": "python3"
  },
  "language_info": {
   "codemirror_mode": {
    "name": "ipython",
    "version": 3
   },
   "file_extension": ".py",
   "mimetype": "text/x-python",
   "name": "python",
   "nbconvert_exporter": "python",
   "pygments_lexer": "ipython3",
   "version": "3.13.3"
  }
 },
 "nbformat": 4,
 "nbformat_minor": 4
}
